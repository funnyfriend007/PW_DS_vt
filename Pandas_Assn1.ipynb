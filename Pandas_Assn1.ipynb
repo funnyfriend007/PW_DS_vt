{
 "cells": [
  {
   "cell_type": "markdown",
   "id": "76c40c7d-1967-4b3d-8e7d-49137bbc2e74",
   "metadata": {},
   "source": [
    "### Q1. Create a Pandas Series that contains the following data: 4, 8, 15, 16, 23, and 42. Then, print the series."
   ]
  },
  {
   "cell_type": "code",
   "execution_count": 4,
   "id": "04324105-1292-43b4-97c5-b2f6e71a7aa1",
   "metadata": {},
   "outputs": [
    {
     "name": "stdout",
     "output_type": "stream",
     "text": [
      "<class 'pandas.core.series.Series'>\n",
      "0     4\n",
      "1     8\n",
      "2    15\n",
      "3    16\n",
      "4    23\n",
      "5    42\n",
      "dtype: int64\n"
     ]
    }
   ],
   "source": [
    "import pandas as pd\n",
    "ls=[4,8,15,16,23,42]  ## creating a list to pass it to series\n",
    "lv_pd_Ser=pd.Series(ls) ## printing series \n",
    "print(type(lv_pd_Ser))\n",
    "print(lv_pd_Ser)"
   ]
  },
  {
   "cell_type": "markdown",
   "id": "81f64c0f-7ec0-4d9e-852b-92bba7c65914",
   "metadata": {},
   "source": [
    "### Q2. Create a variable of list type containing 10 elements in it, and apply pandas.Series function on the \n",
    "### variable print it."
   ]
  },
  {
   "cell_type": "code",
   "execution_count": 3,
   "id": "62553b77-21e6-48f8-991b-3b7bba0f1719",
   "metadata": {},
   "outputs": [
    {
     "name": "stdout",
     "output_type": "stream",
     "text": [
      "0    0\n",
      "1    1\n",
      "2    2\n",
      "3    3\n",
      "4    4\n",
      "5    5\n",
      "6    6\n",
      "7    7\n",
      "8    8\n",
      "9    9\n",
      "dtype: int64\n",
      "<class 'list'>\n",
      "<class 'pandas.core.series.Series'>\n"
     ]
    }
   ],
   "source": [
    "import pandas as pd\n",
    "ls=[x for x in range(10)]  ## list variable \n",
    "print(pd.Series(ls))  ## printing series \n",
    "print(type(ls))\n",
    "print(type(pd.Series(ls)))  ## this is printing series"
   ]
  },
  {
   "cell_type": "markdown",
   "id": "e010b5f7-eb35-4c71-ac06-a3c87eb6ab16",
   "metadata": {},
   "source": [
    "### Q3. Create a Pandas DataFrame that contains the following data:\n",
    "### Then, print the DataFrame. \n",
    "### Name:\"Alice\",\"Bob\",\"Claire\"\n",
    "### Age:25,30,27\n",
    "### Gender:\"Female\",\"Male\",\"Female\""
   ]
  },
  {
   "cell_type": "code",
   "execution_count": 6,
   "id": "de02489a-251e-41f8-8d45-0852fa0f3fc4",
   "metadata": {},
   "outputs": [
    {
     "name": "stdout",
     "output_type": "stream",
     "text": [
      "     Name  Age  Gender\n",
      "0   Alice   25  Female\n",
      "1     Bob   30    Male\n",
      "2  Claire   27  Female\n",
      "<class 'pandas.core.frame.DataFrame'>\n"
     ]
    }
   ],
   "source": [
    "import pandas as pd\n",
    "lv_data={\"Name\":[\"Alice\",\"Bob\",\"Claire\"],\n",
    "         \"Age\":[25,30,27],\n",
    "         \"Gender\":[\"Female\",\"Male\",\"Female\"]\n",
    "}\n",
    "lv_pd_df=pd.DataFrame(lv_data)\n",
    "print(lv_pd_df)\n",
    "print(type(lv_pd_df))"
   ]
  },
  {
   "cell_type": "markdown",
   "id": "829be5ad-8ced-4b53-bd0a-eb57345dd26a",
   "metadata": {},
   "source": [
    "### Q4. What is ‘DataFrame’ in pandas and how is it different from pandas.series? Explain with an example."
   ]
  },
  {
   "cell_type": "code",
   "execution_count": 9,
   "id": "2170a736-f9c2-47cc-8f8f-240388fd88e4",
   "metadata": {},
   "outputs": [
    {
     "name": "stdout",
     "output_type": "stream",
     "text": [
      "<class 'pandas.core.series.Series'>\n",
      "Sub            [Maths, Physics, Chemistry]\n",
      "Total                      [100, 100, 100]\n",
      "MarksScored                   [96, 92, 92]\n",
      "dtype: object\n",
      "\n",
      "         Sub  Total  MarksScored\n",
      "0      Maths    100           96\n",
      "1    Physics    100           92\n",
      "2  Chemistry    100           92\n",
      "<class 'pandas.core.frame.DataFrame'>\n"
     ]
    }
   ],
   "source": [
    "## 1-series     - ONE dimensional labeled arrays series. This will have indexes for rows.\n",
    "## note - indexes can be custom LABELED instead of 0,1,2,3,5,6,7,8,9..........\n",
    "## multiple series can be input to get a dataframe using a DataFrame.\n",
    "## dataframe variable if indexed on one column gives series.\n",
    "    \n",
    "try:\n",
    "    ## series type data structure WITH DICTIOARY AS INPUT \n",
    "    lv_dic={\"Sub\":[\"Maths\",\"Physics\",\"Chemistry\"],\n",
    "            \"Total\":[100,100,100],\n",
    "            \"MarksScored\":[96,92,92]\n",
    "         }\n",
    "    import pandas as pd\n",
    "    print(type(pd.Series(lv_dic)))\n",
    "    print(pd.Series(lv_dic))\n",
    "    print()\n",
    "except Exception as e:\n",
    "    print(e)\n",
    "    \n",
    "## 2- dataframe - TWO DIMESIONAL data - like table. This will have index for rows as well as columns. \n",
    "## note - indexes can be custom LABELED instead of 0,1,2,3,5,6,7,8,9..........\n",
    "## multiple series can be added to get a dataframe.\n",
    "## dataframe variable if indexed on one column gives series.\n",
    "\n",
    "import pandas as pd\n",
    "try:\n",
    "    lv_ser_dic={\"Sub\":pd.Series([\"Maths\",\"Physics\",\"Chemistry\"]),\n",
    "            \"Total\":pd.Series([100,100,100]),\n",
    "            \"MarksScored\":pd.Series([96,92,92])\n",
    "                         }\n",
    "    print(pd.DataFrame(lv_ser_dic))\n",
    "    print(type(pd.DataFrame(lv_ser_dic)))\n",
    "except Exception as e:\n",
    "    print(e)"
   ]
  },
  {
   "cell_type": "markdown",
   "id": "65a843eb-13eb-46a2-ab1b-e4091548a2fd",
   "metadata": {},
   "source": [
    "### Q5. What are some common functions you can use to manipulate data in a Pandas DataFrame? Can \n",
    "### you give an example of when you might use one of these functions?"
   ]
  },
  {
   "cell_type": "code",
   "execution_count": null,
   "id": "350706f0-5711-422c-9c90-645d9a5808db",
   "metadata": {},
   "outputs": [],
   "source": [
    "##Couple of such functions are insert, drop , others also exist for  null values - \n",
    "\n",
    "#### inserting a column (with a specific column name & at a desired column index)\n",
    "lv_pd_df.insert(1, \"new\", [100,200], allow_duplicates = False)  ## 1 is index of column at which place column need to be inserted\n",
    "print(lv_pd_df)\n",
    "\n",
    "lv_pd_f_n=lv_pd_df.drop(\"new\",axis=1)  ## 1 is axis for column \n",
    "print(lv_pd_f_n)"
   ]
  },
  {
   "cell_type": "markdown",
   "id": "2bbcf892-161e-4f6a-a225-39c7b7b4bb44",
   "metadata": {},
   "source": [
    "### Q6. Which of the following is mutable in nature Series, DataFrame, Panel?"
   ]
  },
  {
   "cell_type": "code",
   "execution_count": null,
   "id": "0c352f7f-6fd5-4058-a353-fcab89402bae",
   "metadata": {},
   "outputs": [],
   "source": [
    "## All pandas data structures are value-mutable (the values they contain can be altered) but not always size-mutable. \n",
    "## The length of a Series cannot be changed, but, for example, columns can be inserted into a DataFrame.\n",
    "\n",
    "## few exampels below \n",
    "\n",
    "## series is mutable\n",
    "import pandas as pd\n",
    "lv_pd_ser=pd.Series([12])\n",
    "print(lv_pd_ser)\n",
    "print()\n",
    "lv_pd_ser[0]=9\n",
    "print()\n",
    "print(lv_pd_ser)\n",
    "\n",
    "## DataFrame is mutable\n",
    "##lv_pd_df=pd.DataFrame([12,16])  ## if one list is provided then it treates it as one column with multiple rows \n",
    "lv_pd_df=pd.DataFrame([[4,8],[12,16]])\n",
    "print(\"DataFrame is\",lv_pd_df)\n",
    "print()\n",
    "lv_pd_df[1][1]=9   ## here first index is first column , \n",
    "print()\n",
    "print(lv_pd_df)"
   ]
  },
  {
   "cell_type": "markdown",
   "id": "3de49ede-52a8-4130-b2ce-e0067a6d90e9",
   "metadata": {},
   "source": [
    "### Q7. Create a DataFrame using multiple Series. Explain with an example."
   ]
  },
  {
   "cell_type": "code",
   "execution_count": 10,
   "id": "323ab906-beb7-4dc1-9b35-9d41f8d69cd3",
   "metadata": {},
   "outputs": [
    {
     "name": "stdout",
     "output_type": "stream",
     "text": [
      "         Sub  Total  MarksScored\n",
      "0      Maths    100           96\n",
      "1    Physics    100           92\n",
      "2  Chemistry    100           92\n",
      "<class 'pandas.core.frame.DataFrame'>\n"
     ]
    }
   ],
   "source": [
    "### here series is passed as input for each value of key\n",
    "import pandas as pd\n",
    "try:\n",
    "    lv_ser_dic={\"Sub\":pd.Series([\"Maths\",\"Physics\",\"Chemistry\"]),\n",
    "            \"Total\":pd.Series([100,100,100]),\n",
    "            \"MarksScored\":pd.Series([96,92,92])\n",
    "                         }\n",
    "    print(pd.DataFrame(lv_ser_dic))\n",
    "    print(type(pd.DataFrame(lv_ser_dic)))\n",
    "except Exception as e:\n",
    "    print(e)"
   ]
  },
  {
   "cell_type": "code",
   "execution_count": null,
   "id": "5481867d-7ef3-495b-8bef-9c800c7e0440",
   "metadata": {},
   "outputs": [],
   "source": []
  }
 ],
 "metadata": {
  "kernelspec": {
   "display_name": "Python 3 (ipykernel)",
   "language": "python",
   "name": "python3"
  },
  "language_info": {
   "codemirror_mode": {
    "name": "ipython",
    "version": 3
   },
   "file_extension": ".py",
   "mimetype": "text/x-python",
   "name": "python",
   "nbconvert_exporter": "python",
   "pygments_lexer": "ipython3",
   "version": "3.10.8"
  }
 },
 "nbformat": 4,
 "nbformat_minor": 5
}
