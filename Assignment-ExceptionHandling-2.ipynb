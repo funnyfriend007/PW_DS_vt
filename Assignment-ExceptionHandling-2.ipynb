{
 "cells": [
  {
   "cell_type": "markdown",
   "id": "171eab65-57d7-4b8e-a696-c6cf06bc3250",
   "metadata": {},
   "source": [
    "### Q1. Explain why we have to use the Exception class while creating a Custom Exception."
   ]
  },
  {
   "cell_type": "code",
   "execution_count": 4,
   "id": "4e9cbb14-1899-4457-92df-443964037f8d",
   "metadata": {},
   "outputs": [
    {
     "name": "stdin",
     "output_type": "stream",
     "text": [
      "Enter number 350\n"
     ]
    },
    {
     "name": "stdout",
     "output_type": "stream",
     "text": [
      "Error Raised - Recharge is not possible for amount=  350\n"
     ]
    }
   ],
   "source": [
    "##Exception is super class of every error class. Thats why when Custom user-defined Exception is created it needs to be \n",
    "## derived from super class only.\n",
    "# Below created user-defined exception.class InpError is derived from super class Exception\n",
    "# It will be raised when any number divisible by 3 is executed.\n",
    "class InpError(Exception):\n",
    "    # Constructor or Initializer\n",
    "    def __init__(self, value):\n",
    "        self.value = value\n",
    "try:\n",
    "      inp=int(input(\"Enter number\"))\n",
    "      if inp%100==0:\n",
    "        print(\"Valid input, you can enter your metro card for recharge\")\n",
    "      else:\n",
    "        raise(InpError(inp))\n",
    "except InpError as error:   # Value of Exception is stored in error\n",
    "    print('Error Raised - Recharge is not possible for amount=', error)"
   ]
  },
  {
   "cell_type": "markdown",
   "id": "1288d236-7e25-4cac-a46a-98187bb63b7f",
   "metadata": {},
   "source": [
    "### Q2. Write a python program to print Python Exception Hierarchy"
   ]
  },
  {
   "cell_type": "code",
   "execution_count": null,
   "id": "e49ddc05-43b2-4c15-9cde-6e247ed003b7",
   "metadata": {},
   "outputs": [],
   "source": [
    "## To show python errors hierarchy below progrm is used\n",
    "def classtree(cls, indent=0):    \n",
    "    print('.' * indent, cls.__name__)\n",
    "    for subcls in cls.__subclasses__():   \n",
    "        classtree(subcls, indent + 3)      \n",
    "\n",
    "classtree(BaseException)\n",
    "\n",
    "###If we need to see usage of all  blocks then below program is an example\n",
    "try:\n",
    "    print(\"division of 2 numbers\")\n",
    "    lv_num1=int(input(\"enter first number:\"))\n",
    "    lv_num2=int(input(\"enter second number:\"))\n",
    "    lv_div=lv_num1/lv_num2\n",
    "except Exception as e1:\n",
    "    print(\"error is \",e1)\n",
    "else:\n",
    "    print(f\"quotient is {lv_div} \")\n",
    "finally:\n",
    "    print(\"Anyhow Program completed\")"
   ]
  },
  {
   "cell_type": "markdown",
   "id": "0bc8cbda-8285-4905-a394-5ed93656d33c",
   "metadata": {},
   "source": [
    "### Q3. What errors are defined in the ArithmeticError class? Explain any two with an example"
   ]
  },
  {
   "cell_type": "code",
   "execution_count": null,
   "id": "6db32b81-e344-4d98-a139-3392a0571a11",
   "metadata": {},
   "outputs": [],
   "source": [
    "#ArithmeticError is simply an error that occurs during numeric calculations.\n",
    "#ArithmeticError types in Python include: OverflowError , ZeroDivisionError , FloatingPointError\n",
    "\n",
    "\n",
    "### OverflowError\n",
    "'''When an arithmetic operation exceeds the limits of the variable type, an OverflowError is raised. \n",
    "Long integers allocate more space as values grow, so they end up raising MemoryError. \n",
    "Floating point exception handling is not standardized, however. Regular integers are converted to long values as needed.\n",
    "'''\n",
    "try:   \n",
    "    for i in range(1,1000,10):\n",
    "        f = 10.0**i\n",
    "        print (i, f)\n",
    "        f **= 3\n",
    "except OverflowError as err:\n",
    "    print(\"OverflowError\", f, err)\n",
    "    \n",
    "    \n",
    "'''\n",
    "zerodivisionError\n",
    "'''\n",
    "try:\n",
    "    a = 10\n",
    "    b = 0\n",
    "    print(a/b)\n",
    "except ZeroDivisionError as zde:\n",
    "    print(\"Error: Cannot divide by zero\",zde)  "
   ]
  },
  {
   "cell_type": "markdown",
   "id": "e385383b-cb13-4055-a48f-95eb2723a7a5",
   "metadata": {},
   "source": [
    "### Q4. Why LookupError class is used? Explain with an example KeyError and IndexError."
   ]
  },
  {
   "cell_type": "code",
   "execution_count": 13,
   "id": "f8ca0f5a-4468-489e-8f54-0f364966a135",
   "metadata": {},
   "outputs": [
    {
     "name": "stdout",
     "output_type": "stream",
     "text": [
      "[0, 1, 2, 3, 4, 5, 6, 7, 8, 9]\n",
      "Indexerror is  list index out of range\n",
      "Keyerror is  3\n"
     ]
    }
   ],
   "source": [
    "#This type of error is generally encountered while using sequence data types - dictionary or lists also. \n",
    "#The LookupError raises two exceptions - 1)KeyError 2)IndexError. \n",
    "#It serves as the base class for exceptions that result due to invalid keys or indexes used on a mapping or sequence.\n",
    "\n",
    "## IndexError when index is out or range , when element at certain index is not available\n",
    "try:\n",
    "    lv_list=[x for x in range(10)]\n",
    "    print(lv_list)\n",
    "    print(lv_list[11])\n",
    "except IndexError as e:\n",
    "    print(\"Indexerror is \",e)\n",
    "    \n",
    "####KeyError - when value is not available for a certain key -when dictionary element printed or called isnt occuring in dictionary\n",
    "try:\n",
    "    dict={1:\"first\",2:\"second\"}\n",
    "\n",
    "    print(dict[3])\n",
    "except KeyError as e:\n",
    "    print(\"Keyerror is \",e)"
   ]
  },
  {
   "cell_type": "markdown",
   "id": "2415e967-7895-42be-9b21-cb71394a9b64",
   "metadata": {},
   "source": [
    "### Q5. Explain ImportError. What is ModuleNotFoundError?"
   ]
  },
  {
   "cell_type": "code",
   "execution_count": 16,
   "id": "44a0d938-0c43-4d6c-b1ca-97ceee49b0f7",
   "metadata": {},
   "outputs": [
    {
     "name": "stdout",
     "output_type": "stream",
     "text": [
      "ImportError is  cannot import name 'reducee' from 'functools' (/opt/conda/lib/python3.10/functools.py)\n",
      "ModuleNotFoundError is  No module named 'numpyy'\n"
     ]
    }
   ],
   "source": [
    "############################################################################################\n",
    "##ImportError - This error generally occurs when a class from a module cannot be imported\n",
    "'''It may be due to The imported class is in a circular dependency.\n",
    "The imported class is unavailable or was not created.\n",
    "The imported class name is misspelled.\n",
    "The imported class from a module is misplaced.\n",
    "The imported class is unavailable in the Python library.\n",
    "'''\n",
    "try:\n",
    "    from functools import reducee\n",
    "    ls=[1,6,7,9,7]\n",
    "    sum_ls=reduce(lambda x,y: x+y , ls)\n",
    "    print(sum_ls)\n",
    "except ImportError as eie:\n",
    "    print(\"ImportError is \",eie)\n",
    "\n",
    "############################################################################################    \n",
    "##ModuleNotFoundError - its an exception which is raised when module imported doesnt exist in program.\n",
    "try:\n",
    "    import numpyy as np   ## here typo is made for numpy module\n",
    "    arr=p.array([1,2,3])\n",
    "except ModuleNotFoundError as emnf:\n",
    "    print(\"ModuleNotFoundError is \",emnf)"
   ]
  },
  {
   "cell_type": "markdown",
   "id": "61d58d27-5ad2-45e8-b460-295cf0d36a73",
   "metadata": {},
   "source": [
    "### Q6. List down some best practices for exception handling in python."
   ]
  },
  {
   "cell_type": "code",
   "execution_count": null,
   "id": "d83f3114-1414-4a6f-91fe-f06b473f5ffe",
   "metadata": {},
   "outputs": [],
   "source": [
    "###### Best practices in exception handling \n",
    "'''\n",
    "1-Try to use specific error classes instead of generic - use ZeroDivisionError instead of super class Exception.\n",
    "\n",
    "2-Use a suitable message in except to help troubleshoot easily & quickly.\n",
    "\n",
    "3-Always try to log errors in permanent file instead of print as print displays only on console.\n",
    "try:\n",
    "  import logging\n",
    "  logging.basicConfig(filename=\"error.log\" ,level=logging.ERROR) \n",
    "except Exception as e:\n",
    "  logging.error(\"Error was \",e) \n",
    "All such errors in above case will be logged in inside Error.log .\n",
    "\n",
    "4-Always avoid to write multiple exception hadling, choose specific exception instead of generic super-class.\n",
    "\n",
    "5-Maintain proper documentation for code with suitable comments.\n",
    "\n",
    "6-Ensure Clean up of all used/opened resources. - If file is opened then close it. Similar with DB connection too.\n",
    "'''\n"
   ]
  }
 ],
 "metadata": {
  "kernelspec": {
   "display_name": "Python 3 (ipykernel)",
   "language": "python",
   "name": "python3"
  },
  "language_info": {
   "codemirror_mode": {
    "name": "ipython",
    "version": 3
   },
   "file_extension": ".py",
   "mimetype": "text/x-python",
   "name": "python",
   "nbconvert_exporter": "python",
   "pygments_lexer": "ipython3",
   "version": "3.10.8"
  }
 },
 "nbformat": 4,
 "nbformat_minor": 5
}
