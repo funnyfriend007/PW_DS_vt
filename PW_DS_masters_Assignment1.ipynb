{
 "cells": [
  {
   "cell_type": "markdown",
   "id": "5ccc8408-25d9-46f5-9f86-3aa3928b1c15",
   "metadata": {},
   "source": [
    "Q6 - Create a list containing 25 int type data. Using for loop and if-else condition print if the element is \n",
    "divisible by 3 or not"
   ]
  },
  {
   "cell_type": "code",
   "execution_count": 1,
   "id": "7f75d2a3-8299-485a-bfe6-0b98485fc01a",
   "metadata": {},
   "outputs": [
    {
     "name": "stdout",
     "output_type": "stream",
     "text": [
      "Number is divisible by 3: 0\n",
      "Number is NOT divisible by 3:-- 1\n",
      "Number is NOT divisible by 3:-- 2\n",
      "Number is divisible by 3: 3\n",
      "Number is NOT divisible by 3:-- 4\n",
      "Number is NOT divisible by 3:-- 5\n",
      "Number is divisible by 3: 6\n",
      "Number is NOT divisible by 3:-- 7\n",
      "Number is NOT divisible by 3:-- 8\n",
      "Number is divisible by 3: 9\n",
      "Number is NOT divisible by 3:-- 10\n",
      "Number is NOT divisible by 3:-- 11\n",
      "Number is divisible by 3: 12\n",
      "Number is NOT divisible by 3:-- 13\n",
      "Number is NOT divisible by 3:-- 14\n",
      "Number is divisible by 3: 15\n",
      "Number is NOT divisible by 3:-- 16\n",
      "Number is NOT divisible by 3:-- 17\n",
      "Number is divisible by 3: 18\n",
      "Number is NOT divisible by 3:-- 19\n",
      "Number is NOT divisible by 3:-- 20\n",
      "Number is divisible by 3: 21\n",
      "Number is NOT divisible by 3:-- 22\n",
      "Number is NOT divisible by 3:-- 23\n",
      "Number is divisible by 3: 24\n",
      "Program completed\n"
     ]
    }
   ],
   "source": [
    "for i in range(25) :\n",
    "    if i%3==0: print(\"Number is divisible by 3:\", i)\n",
    "    else: print(\"Number is NOT divisible by 3:--\", i)\n",
    "else:\n",
    "    print(\"Program completed\")"
   ]
  },
  {
   "cell_type": "markdown",
   "id": "bca3b58d-3679-4001-8003-b3c585d24727",
   "metadata": {},
   "source": [
    "Q5. Using a while loop, verify if the number A is purely divisible by number B and if so then how many \n",
    "times it can be divisible."
   ]
  },
  {
   "cell_type": "code",
   "execution_count": 5,
   "id": "bbc65b37-78a0-4a13-b49b-0faccff94df1",
   "metadata": {},
   "outputs": [
    {
     "name": "stdin",
     "output_type": "stream",
     "text": [
      "Enter the dividend 24\n",
      "Enter the divisor 6\n"
     ]
    },
    {
     "name": "stdout",
     "output_type": "stream",
     "text": [
      "24 is completely divisible by 6\n",
      "18 is completely divisible by 6\n",
      "12 is completely divisible by 6\n",
      "quotient is  3\n",
      "6 is completely divisible by 6\n",
      "quotient is  4\n",
      "program completed\n"
     ]
    }
   ],
   "source": [
    "lv_dvd=int(input(\"Enter the dividend\"))\n",
    "lv_dvsr=int(input(\"Enter the divisor\"))\n",
    "i=0\n",
    "while lv_dvd >= lv_dvsr :\n",
    "    if lv_dvd%lv_dvsr==0 : print(str(lv_dvd)+\" is completely divisible by \"+str(lv_dvsr))\n",
    "    else : print(str(lv_dvd)+\" is NOT completely divisible by \"+str(lv_dvsr))\n",
    "    lv_dvd-=lv_dvsr\n",
    "    i+=1\n",
    "    if lv_dvd>lv_dvsr: pass\n",
    "    else: print(\"quotient is \", i)\n",
    "else: print(\"program completed\")"
   ]
  },
  {
   "cell_type": "code",
   "execution_count": null,
   "id": "4b226ba2-f1d3-4153-8a3d-7bf56d9f0010",
   "metadata": {},
   "outputs": [],
   "source": []
  },
  {
   "cell_type": "markdown",
   "id": "de22b214-62e6-40d3-8dc4-cdb5beeb5fcf",
   "metadata": {},
   "source": [
    "Q4. Create a list of length 10 of your choice containing multiple types of data. Using for loop print the \n",
    "element and its data type."
   ]
  },
  {
   "cell_type": "code",
   "execution_count": 8,
   "id": "e6b4d4e0-f263-4a72-98c5-9cad19453452",
   "metadata": {},
   "outputs": [
    {
     "name": "stdout",
     "output_type": "stream",
     "text": [
      "element is  1\n",
      "Type is <class 'int'>\n",
      "element is  2\n",
      "Type is <class 'int'>\n",
      "element is  3\n",
      "Type is <class 'int'>\n",
      "element is  a\n",
      "Type is <class 'str'>\n",
      "element is  stri\n",
      "Type is <class 'str'>\n",
      "element is  [1, 2, 3]\n",
      "Type is <class 'list'>\n",
      "element is  9.0\n",
      "Type is <class 'float'>\n",
      "element is  True\n",
      "Type is <class 'bool'>\n",
      "element is  (4, 5, 6)\n",
      "Type is <class 'tuple'>\n",
      "program is completed\n"
     ]
    }
   ],
   "source": [
    "lv_list=[1,2,3,'a',\"stri\",[1,2,3],9.0,True,(4,5,6)   ]\n",
    "for i in lv_list:\n",
    "    print(\"element is \", i)\n",
    "    print(\"Type is\", type(i))\n",
    "else: print(\"program is completed\")"
   ]
  },
  {
   "cell_type": "markdown",
   "id": "5151aa6d-21e5-412f-9824-1c9f77cf34ac",
   "metadata": {},
   "source": [
    "Q3. Explain the use of the following operators using an example:\n",
    "(i)\t/  \n",
    "(ii)\t% \n",
    "(iii)\t//\n",
    "(iv)\t**"
   ]
  },
  {
   "cell_type": "code",
   "execution_count": 9,
   "id": "8c304c4d-b4c5-49dd-b18f-d5dc8a457ee4",
   "metadata": {},
   "outputs": [
    {
     "data": {
      "text/plain": [
       "4.166666666666667"
      ]
     },
     "execution_count": 9,
     "metadata": {},
     "output_type": "execute_result"
    }
   ],
   "source": [
    "25/6"
   ]
  },
  {
   "cell_type": "code",
   "execution_count": 10,
   "id": "12198614-919a-4cf7-82c7-f5b99ac74453",
   "metadata": {},
   "outputs": [
    {
     "data": {
      "text/plain": [
       "1"
      ]
     },
     "execution_count": 10,
     "metadata": {},
     "output_type": "execute_result"
    }
   ],
   "source": [
    "25%6"
   ]
  },
  {
   "cell_type": "code",
   "execution_count": 11,
   "id": "6c9f0cf4-7155-462f-a431-f1c60485d065",
   "metadata": {},
   "outputs": [
    {
     "data": {
      "text/plain": [
       "4"
      ]
     },
     "execution_count": 11,
     "metadata": {},
     "output_type": "execute_result"
    }
   ],
   "source": [
    "25//6"
   ]
  },
  {
   "cell_type": "code",
   "execution_count": 12,
   "id": "8bf4fc9d-bed3-4699-bd6d-618aee3eace7",
   "metadata": {},
   "outputs": [
    {
     "data": {
      "text/plain": [
       "64"
      ]
     },
     "execution_count": 12,
     "metadata": {},
     "output_type": "execute_result"
    }
   ],
   "source": [
    "2**6"
   ]
  },
  {
   "cell_type": "markdown",
   "id": "49e13fa9-18ae-4755-8975-397fb9447e9a",
   "metadata": {},
   "source": [
    "Q2. Given are some following variables containing data:\n",
    "(i)var1=' '\n",
    "(ii)var2 = ‘[ DS , ML , Python]’\n",
    "(iii)var3 = [ ‘DS’ , ’ML’ , ‘Python’ ]\n",
    "(iv)var4 = 1.\n",
    "What will be the data type of the above given variable"
   ]
  },
  {
   "cell_type": "code",
   "execution_count": 16,
   "id": "161454bf-3649-45a9-8ec3-5836cf200e55",
   "metadata": {},
   "outputs": [
    {
     "data": {
      "text/plain": [
       "str"
      ]
     },
     "execution_count": 16,
     "metadata": {},
     "output_type": "execute_result"
    }
   ],
   "source": [
    "var1=' '\n",
    "type(var1)"
   ]
  },
  {
   "cell_type": "code",
   "execution_count": 19,
   "id": "2f181693-be79-4d8b-9150-fddd6d883c19",
   "metadata": {},
   "outputs": [
    {
     "data": {
      "text/plain": [
       "str"
      ]
     },
     "execution_count": 19,
     "metadata": {},
     "output_type": "execute_result"
    }
   ],
   "source": [
    "var2='[ DS , ML , Python]'\n",
    "type(var2)"
   ]
  },
  {
   "cell_type": "code",
   "execution_count": 21,
   "id": "28cde63d-3340-4377-969d-ef1856a2307b",
   "metadata": {},
   "outputs": [
    {
     "data": {
      "text/plain": [
       "list"
      ]
     },
     "execution_count": 21,
     "metadata": {},
     "output_type": "execute_result"
    }
   ],
   "source": [
    "var3 = [ 'DS' , 'ML' , 'Python' ]\n",
    "type(var3)"
   ]
  },
  {
   "cell_type": "code",
   "execution_count": 22,
   "id": "6dfbc665-2c17-43d8-9849-210ad0db088b",
   "metadata": {},
   "outputs": [
    {
     "data": {
      "text/plain": [
       "int"
      ]
     },
     "execution_count": 22,
     "metadata": {},
     "output_type": "execute_result"
    }
   ],
   "source": [
    "var4 = 1\n",
    "type(var4)"
   ]
  },
  {
   "cell_type": "markdown",
   "id": "b18f65de-0862-4b91-b102-e308dc4ed28b",
   "metadata": {},
   "source": [
    "Q1. Create one variable containing following type of data:\n",
    "(i)\tstring\n",
    "(ii)\tlist\n",
    "(iii)\tfloat\n",
    "(iv)\ttuple"
   ]
  },
  {
   "cell_type": "code",
   "execution_count": 23,
   "id": "020a3616-149e-4e74-99b8-bf3de7e0cd0b",
   "metadata": {},
   "outputs": [
    {
     "name": "stdout",
     "output_type": "stream",
     "text": [
      " this is pw class\n"
     ]
    },
    {
     "data": {
      "text/plain": [
       "str"
      ]
     },
     "execution_count": 23,
     "metadata": {},
     "output_type": "execute_result"
    }
   ],
   "source": [
    "var_str=\" this is \\\n",
    "pw class\"\n",
    "print(var_str)\n",
    "type(var_str)"
   ]
  },
  {
   "cell_type": "code",
   "execution_count": 24,
   "id": "45d92428-e919-4cc0-86ca-1547c77e91d1",
   "metadata": {},
   "outputs": [
    {
     "name": "stdout",
     "output_type": "stream",
     "text": [
      "[1, 2, 'a']\n"
     ]
    },
    {
     "data": {
      "text/plain": [
       "list"
      ]
     },
     "execution_count": 24,
     "metadata": {},
     "output_type": "execute_result"
    }
   ],
   "source": [
    "var_list=[1,2,'a']\n",
    "print(var_list)\n",
    "type(var_list)"
   ]
  },
  {
   "cell_type": "code",
   "execution_count": 25,
   "id": "2af61402-3ccc-4ed7-8935-7108d61e9a59",
   "metadata": {},
   "outputs": [
    {
     "name": "stdout",
     "output_type": "stream",
     "text": [
      "9.0\n"
     ]
    },
    {
     "data": {
      "text/plain": [
       "float"
      ]
     },
     "execution_count": 25,
     "metadata": {},
     "output_type": "execute_result"
    }
   ],
   "source": [
    "var_float=9.0\n",
    "print(var_float)\n",
    "type(var_float)"
   ]
  },
  {
   "cell_type": "code",
   "execution_count": 26,
   "id": "5f28247a-49fd-4d71-836e-69fb722495bd",
   "metadata": {},
   "outputs": [
    {
     "name": "stdout",
     "output_type": "stream",
     "text": [
      "(9.0, 3)\n"
     ]
    },
    {
     "data": {
      "text/plain": [
       "tuple"
      ]
     },
     "execution_count": 26,
     "metadata": {},
     "output_type": "execute_result"
    }
   ],
   "source": [
    "var_tuple=(9.0,3)\n",
    "print(var_tuple)\n",
    "type(var_tuple)"
   ]
  },
  {
   "cell_type": "markdown",
   "id": "3700714c-e71b-4363-b041-e8671c88e589",
   "metadata": {},
   "source": [
    "Q7. What do you understand about mutable and immutable data types? Give examples for both showing \n",
    "this property."
   ]
  },
  {
   "cell_type": "code",
   "execution_count": 27,
   "id": "5ef4a90e-b18c-498a-86b1-e693a25d8243",
   "metadata": {},
   "outputs": [
    {
     "name": "stdout",
     "output_type": "stream",
     "text": [
      "i am a boy who is working hard to reach heights \n",
      "\n"
     ]
    },
    {
     "ename": "TypeError",
     "evalue": "'str' object does not support item assignment",
     "output_type": "error",
     "traceback": [
      "\u001b[0;31m---------------------------------------------------------------------------\u001b[0m",
      "\u001b[0;31mTypeError\u001b[0m                                 Traceback (most recent call last)",
      "Cell \u001b[0;32mIn[27], line 13\u001b[0m\n\u001b[1;32m      8\u001b[0m lv_str3\u001b[38;5;241m=\u001b[39m\u001b[38;5;124m\"\"\"\u001b[39m\u001b[38;5;124mi am a boy \u001b[39m\u001b[38;5;130;01m\\\u001b[39;00m\n\u001b[1;32m      9\u001b[0m \u001b[38;5;124mwho is working hard \u001b[39m\u001b[38;5;130;01m\\\u001b[39;00m\n\u001b[1;32m     10\u001b[0m \u001b[38;5;124mto reach heights \u001b[39m\n\u001b[1;32m     11\u001b[0m \u001b[38;5;124m\"\"\"\u001b[39m\n\u001b[1;32m     12\u001b[0m \u001b[38;5;28mprint\u001b[39m(lv_str3)\n\u001b[0;32m---> 13\u001b[0m \u001b[43mlv_str3\u001b[49m\u001b[43m[\u001b[49m\u001b[38;5;241;43m-\u001b[39;49m\u001b[38;5;241;43m1\u001b[39;49m\u001b[43m]\u001b[49m\u001b[38;5;241m=\u001b[39m\u001b[38;5;124m'\u001b[39m\u001b[38;5;124m'\u001b[39m\n\u001b[1;32m     14\u001b[0m \u001b[38;5;28mprint\u001b[39m(lv_str3)\n",
      "\u001b[0;31mTypeError\u001b[0m: 'str' object does not support item assignment"
     ]
    }
   ],
   "source": [
    "'''Answer - Immutable objects such as int, float and str, \n",
    "mutable objects such as list and dict\n",
    "\n",
    "Immutable - Immutable objects cannot be modified once they are created. Operations like \n",
    "appending new elements, removing elements, or modifying \n",
    "elements are not applicable to immutable objects. Instead, these operations create new objects.\n",
    "example -''' \n",
    "lv_str3=\"\"\"i am a boy \\\n",
    "who is working hard \\\n",
    "to reach heights \n",
    "\"\"\"\n",
    "print(lv_str3)\n",
    "lv_str3[-1]=''\n",
    "print(lv_str3)\n",
    "\n"
   ]
  },
  {
   "cell_type": "code",
   "execution_count": 28,
   "id": "d9e01123-4d57-40d4-a8d7-882b502f3713",
   "metadata": {},
   "outputs": [
    {
     "name": "stdout",
     "output_type": "stream",
     "text": [
      "['abc', 'def', 'ghi', 'jkl']\n",
      "['abc', 'def', 'ghi', 'jkl']\n",
      "['abc', 'xyz', 'ghi', 'jkl']\n"
     ]
    }
   ],
   "source": [
    "'''\n",
    "Mutable - They can be modified after assination.\n",
    "example - \n",
    "'''\n",
    "ls_test=['abc','def','ghi','jkl']\n",
    "print(ls_test[:]) or print(ls_test)\n",
    "ls_test[1]='xyz'\n",
    "print(ls_test)\n"
   ]
  },
  {
   "cell_type": "code",
   "execution_count": null,
   "id": "8f5973e0-d031-4e4e-a101-ac8a9dd2567b",
   "metadata": {},
   "outputs": [],
   "source": []
  }
 ],
 "metadata": {
  "kernelspec": {
   "display_name": "Python 3 (ipykernel)",
   "language": "python",
   "name": "python3"
  },
  "language_info": {
   "codemirror_mode": {
    "name": "ipython",
    "version": 3
   },
   "file_extension": ".py",
   "mimetype": "text/x-python",
   "name": "python",
   "nbconvert_exporter": "python",
   "pygments_lexer": "ipython3",
   "version": "3.10.8"
  }
 },
 "nbformat": 4,
 "nbformat_minor": 5
}
