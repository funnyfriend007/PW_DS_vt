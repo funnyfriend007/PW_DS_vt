{
 "cells": [
  {
   "cell_type": "markdown",
   "id": "caa90e14-6461-4a11-9435-d4ca96c12f49",
   "metadata": {},
   "source": [
    "Q1. Which keyword is used to create a function? Create a function to return a list of odd numbers in the\n",
    "range of 1 to 25."
   ]
  },
  {
   "cell_type": "code",
   "execution_count": 11,
   "id": "b6b31826-2de2-4e6a-9228-855fbf4f604d",
   "metadata": {},
   "outputs": [
    {
     "data": {
      "text/plain": [
       "[1, 3, 5, 7, 9, 11, 13, 15, 17, 19, 21, 23, 25]"
      ]
     },
     "execution_count": 11,
     "metadata": {},
     "output_type": "execute_result"
    }
   ],
   "source": [
    "## def is used to create function , all statements should be with indentation \n",
    "## instead of printing list returned ONLY \n",
    "def f_oddlist_till25():\n",
    "    ls=[]\n",
    "    for i in range(26):\n",
    "        if i%2==1:\n",
    "         ls.append(i)\n",
    "    return ls\n",
    "f_oddlist_till25()"
   ]
  },
  {
   "cell_type": "markdown",
   "id": "36b136c1-068f-4351-98ab-972c491c3669",
   "metadata": {},
   "source": [
    "Q2. Why *args and **kwargs is used in some functions? Create a function each for *args and **kwargs to\n",
    "demonstrate their use."
   ]
  },
  {
   "cell_type": "code",
   "execution_count": 18,
   "id": "40340d99-2384-4bcc-9292-083bff9e3ce8",
   "metadata": {},
   "outputs": [
    {
     "name": "stdout",
     "output_type": "stream",
     "text": [
      "{'a': 'LSG', 'b': 'CSK', 'c': 'MI', 'd': 'GT'}\n"
     ]
    },
    {
     "data": {
      "text/plain": [
       "dict"
      ]
     },
     "execution_count": 18,
     "metadata": {},
     "output_type": "execute_result"
    }
   ],
   "source": [
    "## *args - used to accept variable no of arguments , *args is NOT a keyword\n",
    "def f_sumlist(*varparam):\n",
    "    return max(varparam)\n",
    "print(f_sumlist(1,2))\n",
    "print(f_sumlist(1,2,4))\n",
    "print(f_sumlist(1,2,4,8))\n",
    "\n",
    "\n",
    "## **kwargs is used to pass dictioary as an argument to a fuction , we can apply various fuctions for dictionary for those parameters inside function\n",
    "def f_dict(**dictparam):\n",
    "        return dictparam\n",
    "print(f_dict(a=\"LSG\",b=\"CSK\",c=\"MI\",d=\"GT\"))\n",
    "type(f_dict())"
   ]
  },
  {
   "cell_type": "markdown",
   "id": "55edde4e-8c43-4613-958b-336e87570f28",
   "metadata": {},
   "source": [
    "Q3. What is an iterator in python? Name the method used to initialise the iterator object and the method\n",
    "used for iteration. Use these methods to print the first five elements of the given list [2, 4, 6, 8, 10, 12, 14, 16,\n",
    "18, 20]."
   ]
  },
  {
   "cell_type": "code",
   "execution_count": 2,
   "id": "0c2464e9-77ba-445f-8dff-31c1f40ed110",
   "metadata": {},
   "outputs": [
    {
     "name": "stdout",
     "output_type": "stream",
     "text": [
      "2\n",
      "4\n",
      "6\n",
      "8\n",
      "10\n"
     ]
    }
   ],
   "source": [
    "## An iterator in Python is an object that contains a countable number of elements that can be iterated upon.\n",
    "## Name the method used to initialise the iterator object - iter(ITERABLE) \n",
    "## and the method used for iteration - next(iterator)\n",
    "ls=[2, 4, 6, 8, 10, 12, 14, 16, 18, 20]\n",
    "ls_iter = iter(ls)  # create list iterator\n",
    "i=1\n",
    "while i<=5:\n",
    "    print(next(ls_iter))  #using iterator, next method to get NEXT element & then printing it\n",
    "    i+=1"
   ]
  },
  {
   "cell_type": "markdown",
   "id": "c5b98b4a-61bb-432c-8883-aace01de5f1a",
   "metadata": {},
   "source": [
    "Q4. What is a generator function in python? Why yield keyword is used? Give an example of a generator\n",
    "function"
   ]
  },
  {
   "cell_type": "code",
   "execution_count": 25,
   "id": "dbbd8a42-8d82-4686-912d-13eb376e5e20",
   "metadata": {},
   "outputs": [
    {
     "name": "stdout",
     "output_type": "stream",
     "text": [
      "<generator object print_even at 0x7fe0ac0c0270>\n",
      "0,2,4,6,8,10,12,14,16,18,20,22,24,26,28,30,32,34,36,38,40,42,44,46,48,50,"
     ]
    }
   ],
   "source": [
    "#generator functions - they wont give anything if called alone WITHOUT ANY LOOP.\n",
    "#they will only give results when called inside loop.\n",
    "#yield - its a keyword wihch just yield/geerates output or give whenever its called instead of storin everything in memory & returning at end.\n",
    "#example of generator function - range or any such function which has yield in it and not return.\n",
    "def print_even(n):\n",
    "  for i in range(n):\n",
    "    if i%2==0:\n",
    "        yield i   \n",
    "print(print_even(51))   ## if its called without for loop its giving nothing \n",
    "for j in print_even(51):    ## works only when its taken with for loop \n",
    "    print(j,end=',')"
   ]
  },
  {
   "cell_type": "markdown",
   "id": "02f566d9-dd0e-4d39-97d7-9724549c3420",
   "metadata": {},
   "source": [
    "Q5. Create a generator function for prime numbers less than 1000. Use the next() method to print the\n",
    "first 20 prime numbers."
   ]
  },
  {
   "cell_type": "code",
   "execution_count": 1,
   "id": "100072ba-c9d7-4b3e-ba0d-1ad0e00c0dd5",
   "metadata": {},
   "outputs": [
    {
     "name": "stdout",
     "output_type": "stream",
     "text": [
      "[2, 3, 5, 7, 11, 13, 17, 19, 23, 29, 31, 37, 41, 43, 47, 53, 59, 61, 67, 71, 73, 79, 83, 89, 97, 101, 103, 107, 109, 113, 127, 131, 137, 139, 149, 151, 157, 163, 167, 173, 179, 181, 191, 193, 197, 199, 211, 223, 227, 229, 233, 239, 241, 251, 257, 263, 269, 271, 277, 281, 283, 293, 307, 311, 313, 317, 331, 337, 347, 349, 353, 359, 367, 373, 379, 383, 389, 397, 401, 409, 419, 421, 431, 433, 439, 443, 449, 457, 461, 463, 467, 479, 487, 491, 499, 503, 509, 521, 523, 541, 547, 557, 563, 569, 571, 577, 587, 593, 599, 601, 607, 613, 617, 619, 631, 641, 643, 647, 653, 659, 661, 673, 677, 683, 691, 701, 709, 719, 727, 733, 739, 743, 751, 757, 761, 769, 773, 787, 797, 809, 811, 821, 823, 827, 829, 839, 853, 857, 859, 863, 877, 881, 883, 887, 907, 911, 919, 929, 937, 941, 947, 953, 967, 971, 977, 983, 991, 997]\n",
      "2\n",
      "3\n",
      "5\n",
      "7\n",
      "11\n",
      "13\n",
      "17\n",
      "19\n",
      "23\n",
      "29\n",
      "31\n",
      "37\n",
      "41\n",
      "43\n",
      "47\n",
      "53\n",
      "59\n",
      "61\n",
      "67\n",
      "71\n"
     ]
    }
   ],
   "source": [
    "## since its generator fuction so it already needs to have list generated , when its used in for loop \n",
    "## all numbers shoudl just be printed one by one\n",
    "def f_gen_primels1000(n):\n",
    "  lst=[]\n",
    "  for k in range(1,n):\n",
    "    lst.append(k)\n",
    "  #print(lst) \n",
    "  for j in lst:  ## [1, 2, 3, 4, 5, 6, 7, 8, 9]\n",
    "    i=1\n",
    "    f=0\n",
    "    while i<j :   #0,1\n",
    "        i+=1      # 1\n",
    "        if j%i == 0:\n",
    "            f+=1\n",
    "            #print(f\"number of factors of {j} is {f}\")\n",
    "    if f==1:\n",
    "        #print(j)\n",
    "        yield j\n",
    "ls_prime=[]\n",
    "for i in f_gen_primels1000(1000):   ## creating a list of prime numbers < 1000\n",
    "  ls_prime.append(i)\n",
    "print(ls_prime)\n",
    "ls_prime_iter = iter(ls_prime)  # create list iterator\n",
    "i=1\n",
    "while i<=20:\n",
    "    print(next(ls_prime_iter))  #using iterator, next method to get NEXT element & then printing it\n",
    "    i+=1"
   ]
  },
  {
   "cell_type": "code",
   "execution_count": null,
   "id": "edcb5234-d64f-453e-9679-aba24500a02e",
   "metadata": {},
   "outputs": [],
   "source": []
  }
 ],
 "metadata": {
  "kernelspec": {
   "display_name": "Python 3 (ipykernel)",
   "language": "python",
   "name": "python3"
  },
  "language_info": {
   "codemirror_mode": {
    "name": "ipython",
    "version": 3
   },
   "file_extension": ".py",
   "mimetype": "text/x-python",
   "name": "python",
   "nbconvert_exporter": "python",
   "pygments_lexer": "ipython3",
   "version": "3.10.8"
  }
 },
 "nbformat": 4,
 "nbformat_minor": 5
}
