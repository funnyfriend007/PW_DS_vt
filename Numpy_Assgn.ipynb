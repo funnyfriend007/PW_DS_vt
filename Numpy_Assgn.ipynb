{
 "cells": [
  {
   "cell_type": "code",
   "execution_count": null,
   "id": "9c8b5477-d587-4195-a603-7e3d710cb723",
   "metadata": {},
   "outputs": [],
   "source": [
    "### import numpy as np\n",
    "\n",
    "list_ = [ ‘1’ , ’2’ , ‘3’ , ‘4’ , ‘5’ ]\n",
    "\n",
    "array_list = np.array(object = list_)\n"
   ]
  },
  {
   "cell_type": "markdown",
   "id": "ee55410b-3769-4762-8ee6-dffcdadd689b",
   "metadata": {},
   "source": [
    "###  Q1. Is there any difference in the data type of variables list_ and array_list? If there is then write a code \n",
    "###      to print the data types of both the variables.\n"
   ]
  },
  {
   "cell_type": "code",
   "execution_count": 11,
   "id": "0cc7a343-1229-4115-b905-faa9e5e344d0",
   "metadata": {},
   "outputs": [
    {
     "data": {
      "text/plain": [
       "list"
      ]
     },
     "execution_count": 11,
     "metadata": {},
     "output_type": "execute_result"
    }
   ],
   "source": [
    "#Ans - data type of list_ is list whereas data type of array_ is array.\n",
    "#numpy arrays are faster and store small size as compared to lists.\n",
    "## list variable\n",
    "try:\n",
    "    ls=[x for x in range(1000000)]\n",
    "    type(ls)\n",
    "except Exception as e:\n",
    "    print(e)\n",
    "\n",
    "### array variable \n",
    "try:\n",
    "    import numpy as np\n",
    "    arr=np.array([x for x in range(1000000)])\n",
    "    type(arr)\n",
    "except Exception as e:\n",
    "    print(e)"
   ]
  },
  {
   "cell_type": "markdown",
   "id": "20994445-c955-4686-a6da-823d63fbc735",
   "metadata": {},
   "source": [
    "### Q2. Write a code to print the data type of each and every element of both the variables list_ and arra_list."
   ]
  },
  {
   "cell_type": "code",
   "execution_count": 19,
   "id": "cf8c81c9-8910-4049-be60-3d85ee75be7d",
   "metadata": {},
   "outputs": [
    {
     "name": "stdout",
     "output_type": "stream",
     "text": [
      "data type of 1 is <class 'str'>\n",
      "data type of 2 is <class 'str'>\n",
      "data type of 3 is <class 'str'>\n",
      "data type of 4 is <class 'str'>\n",
      "data type of 5 is <class 'str'>\n",
      "\n",
      "5\n",
      "data type of 1 is <class 'numpy.str_'>\n",
      "data type of 2 is <class 'numpy.str_'>\n",
      "data type of 3 is <class 'numpy.str_'>\n",
      "data type of 4 is <class 'numpy.str_'>\n",
      "data type of 5 is <class 'numpy.str_'>\n"
     ]
    }
   ],
   "source": [
    "## printing each element of each LIST \n",
    "list_ = [ '1' , '2' , '3' , '4' , '5' ]\n",
    "for i in list_:\n",
    "    print(f\"data type of {i} is\", type(i))\n",
    "    \n",
    "## printing each element of each ARRAY\n",
    "print()\n",
    "import numpy as np\n",
    "array_list = np.array(object = list_)\n",
    "print(len(array_list))\n",
    "for i in range(len(array_list)):\n",
    "    print(f\"data type of {array_list[i]} is\",type(array_list[i]))\n",
    "    "
   ]
  },
  {
   "cell_type": "markdown",
   "id": "e5ed92ad-41e6-4b9b-afaf-e4950c07b2ba",
   "metadata": {},
   "source": [
    "### Q3. Considering the following changes in the variable, array_list:\n",
    "### array_list = np.array(object = list_, dtype = int)\n",
    "### Will there be any difference in the data type of the elements present in both the variables, list_ and \n",
    "### arra_list? If so then print the data types of each and every element present in both the variables, list_ \n",
    "### and arra_list."
   ]
  },
  {
   "cell_type": "code",
   "execution_count": 22,
   "id": "4efe3fa9-8f7e-4fa5-b88b-498b422feee9",
   "metadata": {},
   "outputs": [
    {
     "name": "stdout",
     "output_type": "stream",
     "text": [
      "data type of 1 is <class 'str'>\n",
      "data type of 2 is <class 'str'>\n",
      "data type of 3 is <class 'str'>\n",
      "data type of 4 is <class 'str'>\n",
      "data type of 5 is <class 'str'>\n",
      "[1 2 3 4 5]\n",
      "data type of 1 is <class 'numpy.int64'>\n",
      "data type of 2 is <class 'numpy.int64'>\n",
      "data type of 3 is <class 'numpy.int64'>\n",
      "data type of 4 is <class 'numpy.int64'>\n",
      "data type of 5 is <class 'numpy.int64'>\n"
     ]
    }
   ],
   "source": [
    "list_ = [ '1' , '2' , '3' , '4' , '5' ]\n",
    "array_list = np.array(object = list_, dtype = int)\n",
    "for i in list_:\n",
    "    print(f\"data type of {i} is\", type(i))\n",
    "print(array_list)\n",
    "## there will NOT be any change in elemets present in list_ variable\n",
    "## For arrays there is a change in data type of elements , now its int instead of string\n",
    "for i in range(len(array_list)):\n",
    "    print(f\"data type of {array_list[i]} is\",type(array_list[i]))"
   ]
  },
  {
   "cell_type": "markdown",
   "id": "899c6820-1f59-47e8-b545-ef3ce6994830",
   "metadata": {},
   "source": [
    "## import numpy as np\n",
    "## num_list = [ [ 1 , 2 , 3 ] , [ 4 , 5 , 6 ] ]\n",
    "## num_array = np.array(object = num_list)"
   ]
  },
  {
   "cell_type": "markdown",
   "id": "38b5d47b-e277-4224-81e4-468199ccef9b",
   "metadata": {},
   "source": [
    "### Q4. Write a code to find the following characteristics of variable, num_array:\n",
    "### (i)\t shape\n",
    "### (ii) size"
   ]
  },
  {
   "cell_type": "code",
   "execution_count": 26,
   "id": "8bc202b5-9d37-41b1-815c-9afa4a297aa0",
   "metadata": {},
   "outputs": [
    {
     "name": "stdout",
     "output_type": "stream",
     "text": [
      "[[1 2 3]\n",
      " [4 5 6]]\n",
      "(2, 3)\n",
      "\n",
      "6\n"
     ]
    }
   ],
   "source": [
    "import numpy as np\n",
    "num_list = [ [ 1 , 2 , 3 ] , [ 4 , 5 , 6 ] ]\n",
    "num_array = np.array(object = num_list)\n",
    "print(num_array)\n",
    "print(num_array.shape)   ## shape is number of rows, number of columns so here its 2,3 as 2 rows , 3 columns\n",
    "print()\n",
    "print(num_array.size)    ## size attribute of numpy array gives size , for single dimensional array len() can also be usedd"
   ]
  },
  {
   "cell_type": "markdown",
   "id": "6e4efb84-f612-4a55-a90e-e0d38767c8f6",
   "metadata": {},
   "source": [
    "### Q5. Write a code to create numpy array of 3*3 matrix containing zeros only, using a numpy array \n",
    "### creation function.\n",
    "### [Hint: The size of the array will be 9 and the shape will be (3,3).]\n",
    "\n"
   ]
  },
  {
   "cell_type": "code",
   "execution_count": 36,
   "id": "e9aebbaf-86c6-4782-8eb0-c32885138328",
   "metadata": {},
   "outputs": [
    {
     "name": "stdout",
     "output_type": "stream",
     "text": [
      "[[0. 0. 0.]\n",
      " [0. 0. 0.]\n",
      " [0. 0. 0.]]\n",
      "(3, 3)\n",
      "9\n",
      "\n",
      "\n",
      "[0 0 0 0 0 0 0 0 0]\n",
      "[[0 0 0]\n",
      " [0 0 0]\n",
      " [0 0 0]]\n",
      "(3, 3)\n",
      "9\n"
     ]
    }
   ],
   "source": [
    "## there are multiple methos to do this, two are here below\n",
    "## a) creating a 3,3 multi dimensional array ith all zeros\n",
    "import numpy as npm\n",
    "arrzmd=np.zeros((3,3))  \n",
    "print(arrzmd)\n",
    "print(arrzmd.shape)   ## shape is 3,3\n",
    "print(arrzmd.size)    ## size is 9\n",
    "print()\n",
    "print()\n",
    "## b) creating a single dimensional array of 9 zeros with all zeros & then reshape it\n",
    "arrsd=np.array([0]*9)\n",
    "print(arrsd)\n",
    "newarr=arrsd.reshape(3,3)\n",
    "print(newarr)\n",
    "print(newarr.shape)   ## shape is 3,3\n",
    "print(newarr.size)    ## size is 9\n"
   ]
  },
  {
   "cell_type": "markdown",
   "id": "0c367943-fc7b-4abf-8ae2-c98f9e0126be",
   "metadata": {},
   "source": [
    "### Q6. Create an identity matrix of shape (5,5) using numpy functions?\n",
    "### [Hint: An identity matrix is a matrix containing 1 diagonally and other elements will be 0.]"
   ]
  },
  {
   "cell_type": "code",
   "execution_count": 39,
   "id": "164ecae1-aa12-4817-baea-223846950306",
   "metadata": {},
   "outputs": [
    {
     "name": "stdout",
     "output_type": "stream",
     "text": [
      "[[1. 0. 0. 0. 0.]\n",
      " [0. 1. 0. 0. 0.]\n",
      " [0. 0. 1. 0. 0.]\n",
      " [0. 0. 0. 1. 0.]\n",
      " [0. 0. 0. 0. 1.]]\n",
      "\n",
      "(5, 5)\n",
      "\n",
      "25\n"
     ]
    }
   ],
   "source": [
    "import numpy as np\n",
    "x=np.eye(5,5)  ## 3 rows , each with 5 columns.\n",
    "print(x) \n",
    "print()\n",
    "print(x.shape) \n",
    "print()\n",
    "print(x.size) "
   ]
  },
  {
   "cell_type": "code",
   "execution_count": null,
   "id": "8006e5b5-a4f6-4181-bffd-b2c3233755ae",
   "metadata": {},
   "outputs": [],
   "source": []
  }
 ],
 "metadata": {
  "kernelspec": {
   "display_name": "Python 3 (ipykernel)",
   "language": "python",
   "name": "python3"
  },
  "language_info": {
   "codemirror_mode": {
    "name": "ipython",
    "version": 3
   },
   "file_extension": ".py",
   "mimetype": "text/x-python",
   "name": "python",
   "nbconvert_exporter": "python",
   "pygments_lexer": "ipython3",
   "version": "3.10.8"
  }
 },
 "nbformat": 4,
 "nbformat_minor": 5
}
