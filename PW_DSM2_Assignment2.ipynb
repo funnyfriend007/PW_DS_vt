{
 "cells": [
  {
   "cell_type": "markdown",
   "id": "44a53308-3615-45b6-bf23-5d69eaca4eb8",
   "metadata": {},
   "source": [
    "Q1. How do you comment code in Python? What are the different types of comments?"
   ]
  },
  {
   "cell_type": "code",
   "execution_count": 1,
   "id": "978b6721-59c4-4421-a5ed-5cfc68d39cea",
   "metadata": {},
   "outputs": [
    {
     "name": "stdout",
     "output_type": "stream",
     "text": [
      "end of program\n"
     ]
    }
   ],
   "source": [
    "# This is ONE LINE comment\n",
    "''' This is multi \n",
    "line\n",
    "comment '''\n",
    "print(\"end of program\")"
   ]
  },
  {
   "cell_type": "markdown",
   "id": "ccdd1a5a-ed93-48b9-a7dc-f323dbf7d544",
   "metadata": {},
   "source": [
    "Q2. What are variables in Python? How do you declare and assign values to variables?"
   ]
  },
  {
   "cell_type": "code",
   "execution_count": 3,
   "id": "8f8bd7ea-6e0d-4d2e-a652-8db9e7552452",
   "metadata": {},
   "outputs": [
    {
     "name": "stdout",
     "output_type": "stream",
     "text": [
      "1\n",
      "a\n",
      "string\n",
      "1.0\n",
      "[1, 2, 'a', 'string', [3, 4], 9.0, (5, 6)]\n",
      "(2, 3, 4)\n",
      "(5, 6, 7)\n",
      "{8.0, 1, 'a', (2, 3)}\n",
      "[1 2 3]\n"
     ]
    }
   ],
   "source": [
    "lv_int=1\n",
    "lv_str='a'\n",
    "lv_str_char=\"string\"\n",
    "lv_float=1.0\n",
    "lv_list=[1,2,'a',\"string\",[3,4],9.0,(5,6)]\n",
    "lv_tuple=2,3,4\n",
    "lv_tuple2=(5,6,7)\n",
    "lv_set={1,'a',8.0,(2,3)}\n",
    "import numpy as np\n",
    "lv_arr=np.array([1,2,3])\n",
    "print(lv_int)\n",
    "print(lv_str)\n",
    "print(lv_str_char)\n",
    "print(lv_float)\n",
    "print(lv_list)\n",
    "print(lv_tuple)\n",
    "print(lv_tuple2)\n",
    "print(lv_set)\n",
    "print(lv_arr)"
   ]
  },
  {
   "cell_type": "markdown",
   "id": "66cbbc10-498a-4b88-b2b7-ccd74230a40e",
   "metadata": {},
   "source": [
    "Q3 - How do you convert one data type to another in Python?"
   ]
  },
  {
   "cell_type": "code",
   "execution_count": 1,
   "id": "3fd96008-62bb-44e4-8569-aefc98710891",
   "metadata": {},
   "outputs": [
    {
     "name": "stdin",
     "output_type": "stream",
     "text": [
      "Enter an integer 10\n"
     ]
    },
    {
     "name": "stdout",
     "output_type": "stream",
     "text": [
      "Natural Numbers are 1 , 2 , 3\n",
      "10.0\n",
      "[1, 2, 3, 4]\n",
      "<class 'list'>\n"
     ]
    },
    {
     "data": {
      "text/plain": [
       "numpy.ndarray"
      ]
     },
     "execution_count": 1,
     "metadata": {},
     "output_type": "execute_result"
    }
   ],
   "source": [
    "# Using int or str or float or respective data type conversion functions\n",
    "# Usage of int function\n",
    "lv_int=int(input(\"Enter an integer\"))     # It will be in string format, so we use int to convert string to int \n",
    "\n",
    "# Usage of str function\n",
    "print(\"Natural Numbers are \"+str(1)+\" , \"+str(2)+\" , \"+str(3))\n",
    "\n",
    "# Usage of float function\n",
    "lv_float=float(lv_int)\n",
    "print(lv_float)\n",
    "print(type(lv_float))\n",
    "\n",
    "## usage of array function\n",
    "lv_list=[1,2,3,4]\n",
    "print(lv_list)\n",
    "print(type(lv_list))\n",
    "\n",
    "import numpy as np\n",
    "#Usage of array function\n",
    "lv_arr=np.array(lv_list)\n",
    "type(lv_arr)"
   ]
  },
  {
   "cell_type": "markdown",
   "id": "f6a56d94-ab36-4a50-af2f-82daba9ab66c",
   "metadata": {},
   "source": [
    "Q5. Given a list my_list = [1, 2, 3, 4, 5], write the code to slice the list and obtain the sub-list [2, 3]."
   ]
  },
  {
   "cell_type": "code",
   "execution_count": 9,
   "id": "128bfe4b-4344-413c-872a-b8d1f812fc15",
   "metadata": {},
   "outputs": [
    {
     "data": {
      "text/plain": [
       "[2, 3]"
      ]
     },
     "execution_count": 9,
     "metadata": {},
     "output_type": "execute_result"
    }
   ],
   "source": [
    "## slicing , start index is counted , end index is not counted\n",
    "my_list = [1, 2, 3, 4, 5]\n",
    "my_list[1:3]"
   ]
  },
  {
   "cell_type": "markdown",
   "id": "e90a6c3a-0883-4e38-a80f-7c74981a187f",
   "metadata": {},
   "source": [
    "Q6. What is a complex number in mathematics, and how is it represented in Python?"
   ]
  },
  {
   "cell_type": "code",
   "execution_count": 11,
   "id": "e57e2587-6b5f-4f55-8494-fb1307f82f13",
   "metadata": {},
   "outputs": [
    {
     "name": "stdout",
     "output_type": "stream",
     "text": [
      "<class 'complex'>\n",
      "1.0\n",
      "1.0\n"
     ]
    }
   ],
   "source": [
    "#complex number has real & imaginary number.\n",
    "lv_complex=1+1j\n",
    "print(type(lv_complex))\n",
    "print(lv_complex.imag)\n",
    "print(lv_complex.real)"
   ]
  },
  {
   "cell_type": "markdown",
   "id": "4a9813c2-2b57-49a3-a04b-7ae752952892",
   "metadata": {},
   "source": [
    "Q7. What is the correct way to declare a variable named age and assign the value 25 to it?"
   ]
  },
  {
   "cell_type": "code",
   "execution_count": 12,
   "id": "102d96a5-c56f-4b72-a8de-7f0583cfe08e",
   "metadata": {},
   "outputs": [
    {
     "name": "stdout",
     "output_type": "stream",
     "text": [
      "<class 'int'>\n"
     ]
    }
   ],
   "source": [
    "## age \n",
    "age=25   \n",
    "print(type(age))"
   ]
  },
  {
   "cell_type": "markdown",
   "id": "3bf03642-0124-4642-bca2-f92963574d10",
   "metadata": {},
   "source": [
    "Q8. Declare a variable named price and assign the value 9.99 to it. What data type does this variable\n",
    "belong to?"
   ]
  },
  {
   "cell_type": "code",
   "execution_count": 14,
   "id": "1e55dfd6-cb3b-426b-aa5a-2fa8a103a173",
   "metadata": {},
   "outputs": [
    {
     "name": "stdout",
     "output_type": "stream",
     "text": [
      "<class 'float'>\n"
     ]
    }
   ],
   "source": [
    "price=9.99   ## this is float\n",
    "print(type(price))"
   ]
  },
  {
   "cell_type": "markdown",
   "id": "45e8d73f-0454-40bf-a350-ae70eeb30119",
   "metadata": {},
   "source": [
    "Q9. Create a variable named name and assign your full name to it as a string. How would you print the\n",
    "value of this variable?"
   ]
  },
  {
   "cell_type": "code",
   "execution_count": 15,
   "id": "43a2e446-6821-4909-9d2d-d722e515e970",
   "metadata": {},
   "outputs": [
    {
     "name": "stdout",
     "output_type": "stream",
     "text": [
      "Shri kumar\n",
      "<class 'str'>\n"
     ]
    }
   ],
   "source": [
    "name=\"Shri kumar\"\n",
    "print(name)\n",
    "print(type(name))"
   ]
  },
  {
   "cell_type": "markdown",
   "id": "28921aa4-d893-40bd-b717-0860910c53e1",
   "metadata": {},
   "source": [
    "Q10. Given the string \"Hello, World!\", extract the substring \"World\"."
   ]
  },
  {
   "cell_type": "code",
   "execution_count": 17,
   "id": "80284834-8198-4cde-aa65-a776d776cac1",
   "metadata": {},
   "outputs": [
    {
     "name": "stdout",
     "output_type": "stream",
     "text": [
      "<class 'str'>\n",
      "World\n"
     ]
    }
   ],
   "source": [
    "lv_str=\"Hello, World!\"\n",
    "print(type(lv_str))\n",
    "lv_substr=lv_str[7:12]\n",
    "print(lv_substr)"
   ]
  },
  {
   "cell_type": "markdown",
   "id": "c39b9f4a-06c6-4727-bcb1-c5220b62674d",
   "metadata": {},
   "source": [
    "Q11. Create a variable named \"is_student\" and assign it a boolean value indicating whether you are\n",
    "currently a student or not."
   ]
  },
  {
   "cell_type": "code",
   "execution_count": 18,
   "id": "ab9263b8-b5b0-498f-919f-0e32ebe9d7c4",
   "metadata": {},
   "outputs": [
    {
     "name": "stdout",
     "output_type": "stream",
     "text": [
      "I am a student\n"
     ]
    },
    {
     "data": {
      "text/plain": [
       "bool"
      ]
     },
     "execution_count": 18,
     "metadata": {},
     "output_type": "execute_result"
    }
   ],
   "source": [
    "is_student=True\n",
    "if(is_student): print(\"I am a student\")\n",
    "else: print(\"I am NOT a student\")\n",
    "type(is_student)"
   ]
  },
  {
   "cell_type": "code",
   "execution_count": null,
   "id": "9bfc7e33-c8cf-4bd4-92d8-d4c1303b55a2",
   "metadata": {},
   "outputs": [],
   "source": []
  }
 ],
 "metadata": {
  "kernelspec": {
   "display_name": "Python 3 (ipykernel)",
   "language": "python",
   "name": "python3"
  },
  "language_info": {
   "codemirror_mode": {
    "name": "ipython",
    "version": 3
   },
   "file_extension": ".py",
   "mimetype": "text/x-python",
   "name": "python",
   "nbconvert_exporter": "python",
   "pygments_lexer": "ipython3",
   "version": "3.10.8"
  }
 },
 "nbformat": 4,
 "nbformat_minor": 5
}
