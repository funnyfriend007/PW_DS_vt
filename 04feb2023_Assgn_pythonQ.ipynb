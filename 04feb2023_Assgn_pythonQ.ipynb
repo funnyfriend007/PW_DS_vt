{
 "cells": [
  {
   "cell_type": "markdown",
   "id": "01a7a3c8-011b-4397-b92b-598771dac47d",
   "metadata": {},
   "source": [
    "Q1. Create a python program to sort the given list of tuples based on integer value using a\n",
    "lambda function. \n",
    "[('Sachin Tendulkar', 34357), ('Ricky Ponting', 27483), ('Jack Kallis', 25534), ('Virat Kohli', 24936)]"
   ]
  },
  {
   "cell_type": "code",
   "execution_count": 21,
   "id": "e8f2b6d8-5478-444a-a98e-16e73ba5e598",
   "metadata": {},
   "outputs": [
    {
     "name": "stdout",
     "output_type": "stream",
     "text": [
      "[('Virat Kohli', 24936), ('Jack Kallis', 25534), ('Ricky Ponting', 27483), ('Sachin Tendulkar', 34357)]\n"
     ]
    }
   ],
   "source": [
    "lv_tup_ls=[('Sachin Tendulkar', 34357), ('Ricky Ponting', 27483), ('Jack Kallis', 25534), ('Virat Kohli', 24936)]\n",
    "lv_tup_ls.sort(key=lambda x: x[1])\n",
    "print(lv_tup_ls)"
   ]
  },
  {
   "cell_type": "markdown",
   "id": "095e40e6-68e9-4ba1-8a64-da1db45c8aa9",
   "metadata": {},
   "source": [
    "Q2. Write a Python Program to find the squares of all the numbers in the given list of integers using\n",
    "lambda and map functions.\n",
    "[1, 2, 3, 4, 5, 6, 7, 8, 9, 10]"
   ]
  },
  {
   "cell_type": "code",
   "execution_count": 25,
   "id": "38812d6e-7d7b-4c78-8d4a-f05cd8812215",
   "metadata": {},
   "outputs": [
    {
     "name": "stdout",
     "output_type": "stream",
     "text": [
      "[1, 4, 9, 16, 25, 36, 49, 64, 81, 100]\n",
      "[1, 4, 9, 16, 25, 36, 49, 64, 81, 100]\n",
      "[1, 4, 9, 16, 25, 36, 49, 64, 81, 100]\n"
     ]
    }
   ],
   "source": [
    "#method 1 : usin lambda and map fuctions : map function gives object so LIST is used\n",
    "lv_ls=[1, 2, 3, 4, 5, 6, 7, 8, 9, 10]\n",
    "print(list(map(lambda x : x**2,lv_ls)))\n",
    "\n",
    "## Method 2 List comprehension , easiest of all ##\n",
    "ls_sq=[x*x for x in lv_ls]\n",
    "print(ls_sq)\n",
    "\n",
    "#method 3 : using for loop and append - traditional\n",
    "lv_ls=[1, 2, 3, 4, 5, 6, 7, 8, 9, 10]\n",
    "lv_lsnew=[]\n",
    "for i in lv_ls:\n",
    "    lv_lsnew.append(i**2)\n",
    "print(lv_lsnew)\n"
   ]
  },
  {
   "cell_type": "markdown",
   "id": "4c3141e7-6a4d-4be0-930d-56a2c07d7fd7",
   "metadata": {},
   "source": [
    "Q3. Write a python program to convert the given list of integers into a tuple of strings. Use map and\n",
    "lambda functions\n",
    "Given String: [1, 2, 3, 4, 5, 6, 7, 8, 9, 10]\n",
    "Expected output: ('1', '2', '3', '4', '5', '6', '7', '8', '9', '10')"
   ]
  },
  {
   "cell_type": "code",
   "execution_count": 9,
   "id": "1d440020-e5bc-4c61-aafe-c17d3ade5cfe",
   "metadata": {},
   "outputs": [
    {
     "data": {
      "text/plain": [
       "('1', '2', '3', '4', '5', '6', '7', '8', '9', '10')"
      ]
     },
     "execution_count": 9,
     "metadata": {},
     "output_type": "execute_result"
    }
   ],
   "source": [
    "## take a list , pass it to lambda fuction, the puse tuple over map as map gives object \n",
    "lv_ls=[1, 2, 3, 4, 5, 6, 7, 8, 9, 10]\n",
    "tuple(map(lambda x : str(x) ,lv_ls))"
   ]
  },
  {
   "cell_type": "markdown",
   "id": "251a538e-2ad2-4603-9536-95c822b95649",
   "metadata": {},
   "source": [
    "Q4. Write a python program using reduce function to compute the product of a list containing numbers\n",
    "from 1 to 25"
   ]
  },
  {
   "cell_type": "code",
   "execution_count": 8,
   "id": "6522e3cf-7676-48d2-974e-b5e714cb12c4",
   "metadata": {},
   "outputs": [
    {
     "name": "stdout",
     "output_type": "stream",
     "text": [
      "[1, 2, 3, 4, 5, 6, 7, 8, 9, 10, 11, 12, 13, 14, 15, 16, 17, 18, 19, 20, 21, 22, 23, 24, 25]\n",
      "<class 'list'>\n"
     ]
    },
    {
     "data": {
      "text/plain": [
       "15511210043330985984000000"
      ]
     },
     "execution_count": 8,
     "metadata": {},
     "output_type": "execute_result"
    }
   ],
   "source": [
    "## geeration of list using for loop & range function \n",
    "lv_ls=[]\n",
    "for i in range(1,26):\n",
    "    lv_ls.append(i)\n",
    "print(lv_ls)\n",
    "print(type(lv_ls))\n",
    "##using reduce now \n",
    "from functools import reduce  ## this is \n",
    "reduce(lambda x,y : x*y , lv_ls)"
   ]
  },
  {
   "cell_type": "markdown",
   "id": "df2848a4-1b72-427d-bbc5-f2b51e51bf34",
   "metadata": {},
   "source": [
    "Q5. Write a python program to filter the numbers in a given list that are divisible by 2 and 3 using the\n",
    "filter function. [2, 3, 6, 9, 27, 60, 90, 120, 55, 46]"
   ]
  },
  {
   "cell_type": "code",
   "execution_count": 22,
   "id": "ae11faed-88dd-4905-8c3c-b4d48b82e01c",
   "metadata": {},
   "outputs": [
    {
     "data": {
      "text/plain": [
       "[2, 3, 6, 9, 27, 60, 90, 120, 46]"
      ]
     },
     "execution_count": 22,
     "metadata": {},
     "output_type": "execute_result"
    }
   ],
   "source": [
    "## I am unable to uderstand language, whether its number should be divisible by 2 and 3 both \n",
    "## listing only those elements which are divisible by BOTH 2 and 3\n",
    "lv_ls=[2, 3, 6, 9, 27, 60, 90, 120, 55, 46]\n",
    "list(filter(lambda x: x%2==0 and x%3==0 ,lv_ls))\n",
    "\n",
    "# Method 2 = numbers which are divisible by both 2 and 3 will be divisible by 6, directly implementing divisibility by 6 condition\n",
    "lv_ls1=[2, 3, 6, 9, 27, 60, 90, 120, 55, 46]\n",
    "list(filter(lambda x: x%6==0 ,lv_ls1))\n",
    "\n",
    "## Method 3 - if question says that numbers divisible by 2 or 3\n",
    "lv_ls2=[2, 3, 6, 9, 27, 60, 90, 120, 55, 46]\n",
    "list(filter(lambda x: x%2==0 or x%3==0 ,lv_ls2))\n"
   ]
  },
  {
   "cell_type": "markdown",
   "id": "d4b1beff-61e7-4434-a3d3-d4286a070682",
   "metadata": {},
   "source": [
    "Q6. Write a python program to find palindromes in the given list of strings using lambda and filter\n",
    "function.\n",
    "['python', 'php', 'aba', 'radar', 'level']"
   ]
  },
  {
   "cell_type": "code",
   "execution_count": 24,
   "id": "cb9ee78f-81b0-4e76-ae29-6d00154007ca",
   "metadata": {},
   "outputs": [
    {
     "data": {
      "text/plain": [
       "['php', 'aba', 'radar', 'level']"
      ]
     },
     "execution_count": 24,
     "metadata": {},
     "output_type": "execute_result"
    }
   ],
   "source": [
    "## a palindrome spelling will remain same if its reversed so filtered only those who have such quality\n",
    "ls=['python', 'php', 'aba', 'radar', 'level']\n",
    "list(filter(lambda x:  x==x[::-1],ls))"
   ]
  },
  {
   "cell_type": "code",
   "execution_count": null,
   "id": "2a671963-3f51-4291-a6ef-6af2a61cbf9a",
   "metadata": {},
   "outputs": [],
   "source": []
  }
 ],
 "metadata": {
  "kernelspec": {
   "display_name": "Python 3 (ipykernel)",
   "language": "python",
   "name": "python3"
  },
  "language_info": {
   "codemirror_mode": {
    "name": "ipython",
    "version": 3
   },
   "file_extension": ".py",
   "mimetype": "text/x-python",
   "name": "python",
   "nbconvert_exporter": "python",
   "pygments_lexer": "ipython3",
   "version": "3.10.8"
  }
 },
 "nbformat": 4,
 "nbformat_minor": 5
}
