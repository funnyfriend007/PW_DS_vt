{
 "cells": [
  {
   "cell_type": "markdown",
   "id": "9b96a721-c4e6-484b-92d9-b4a0dfb38895",
   "metadata": {},
   "source": [
    "Q1- What is an exception in python? Whats the difference between Exceptions & syntax errors."
   ]
  },
  {
   "cell_type": "code",
   "execution_count": 1,
   "id": "7cbb931e-039a-487b-8433-c2d715a0023c",
   "metadata": {},
   "outputs": [
    {
     "ename": "SyntaxError",
     "evalue": "invalid syntax. Perhaps you forgot a comma? (1622113891.py, line 7)",
     "output_type": "error",
     "traceback": [
      "\u001b[0;36m  Cell \u001b[0;32mIn[1], line 7\u001b[0;36m\u001b[0m\n\u001b[0;31m    ls_7=list(filter(lambdaa x: x%7==0,ls))\u001b[0m\n\u001b[0m                     ^\u001b[0m\n\u001b[0;31mSyntaxError\u001b[0m\u001b[0;31m:\u001b[0m invalid syntax. Perhaps you forgot a comma?\n"
     ]
    }
   ],
   "source": [
    "## Its a way to handle errors and to avoid abnormal termination of program due to possible anticipated causes.\n",
    "## one of simplest due to missing double quotes is handled with exception.\n",
    "'''Syntax errors - which are due to typos/invalid syntax and doesnt depend on input/real time processing.\n",
    "This is syntax error as there is a spelling mistake,program gives while checking program if it has any SYNTAX error. \n",
    "Python identifies these errors right away and gives errors'''\n",
    "try:\n",
    "    ls_var1=[x for x in range(101)]\n",
    "    num=7\n",
    "    ls_7=list(filter(lambdaa x: x%7==0,ls))   ## spelling of lamdaa is wrong\n",
    "    print(ls_7)\n",
    "except Exception as e:\n",
    "    print(e)\n",
    "\n",
    "''' Exceptions - below is exception where a literal is defined without single quotes , program realizes while assigning value only \n",
    "that its a name error. Here python is NOT able to identify error before running a program'''\n",
    "try:\n",
    "    lv_name=VT      ## Here \" or ' is missing due to which python doesnt identify datatype with literal values\n",
    "    print(lv_name)  \n",
    "except Exception as e:\n",
    "    print(\"Error is\",e)\n",
    "        \n",
    "             \n",
    "             "
   ]
  },
  {
   "cell_type": "markdown",
   "id": "1d1d538c-7487-47b1-b236-7a116adc6181",
   "metadata": {},
   "source": [
    "##Q2 - What happens when an exception is not handled?"
   ]
  },
  {
   "cell_type": "code",
   "execution_count": 12,
   "id": "e638ed6e-6688-41d0-aa4d-4cd02b53a599",
   "metadata": {},
   "outputs": [
    {
     "name": "stdout",
     "output_type": "stream",
     "text": [
      "gettings share for number of partners in a list\n",
      "[0, 1, 2, 3, 4, 5, 6, 7, 8, 9, 10, 11, 12, 13, 14, 15, 16, 17, 18, 19, 20, 21, 22, 23, 24, 25, 26, 27, 28, 29, 30, 31, 32, 33, 34, 35, 36, 37, 38, 39, 40, 41, 42, 43, 44, 45, 46, 47, 48, 49, 50, 51, 52, 53, 54, 55, 56, 57, 58, 59, 60, 61, 62, 63, 64, 65, 66, 67, 68, 69, 70, 71, 72, 73, 74, 75, 76, 77, 78, 79, 80, 81, 82, 83, 84, 85, 86, 87, 88, 89, 90, 91, 92, 93, 94, 95, 96, 97, 98, 99]\n",
      "[20, 69, 70, 78, 10, 92, 25, 13, 2, 52, 35, 89, 34, 73, 53, 7, 96, 84, 91, 39, 42, 11, 90, 82, 37, 61, 0, 80, 8, 40, 59, 45, 4, 26, 33, 66, 68, 30, 43, 9, 95, 23, 29, 62, 38, 86, 57, 47, 48, 41, 60, 5, 28, 55, 50, 36, 6, 49, 1, 24, 32, 22, 79, 85, 12, 93, 31, 3, 65, 87, 19, 16, 76, 71, 74, 51, 94, 44, 17, 98, 46, 15, 14, 81, 97, 99, 56, 75, 67, 72, 21, 58, 83, 64, 18, 88, 77, 54, 63, 27]\n",
      "% for 20 partners is 5.0\n",
      "% for 69 partners is 1.4492753623188406\n",
      "% for 70 partners is 1.4285714285714286\n",
      "% for 78 partners is 1.282051282051282\n",
      "% for 10 partners is 10.0\n",
      "% for 92 partners is 1.0869565217391304\n",
      "% for 25 partners is 4.0\n",
      "% for 13 partners is 7.6923076923076925\n",
      "% for 2 partners is 50.0\n",
      "% for 52 partners is 1.9230769230769231\n",
      "% for 35 partners is 2.857142857142857\n",
      "% for 89 partners is 1.1235955056179776\n",
      "% for 34 partners is 2.941176470588235\n",
      "% for 73 partners is 1.36986301369863\n",
      "% for 53 partners is 1.8867924528301887\n",
      "% for 7 partners is 14.285714285714285\n",
      "% for 96 partners is 1.0416666666666665\n",
      "% for 84 partners is 1.1904761904761905\n",
      "% for 91 partners is 1.098901098901099\n",
      "% for 39 partners is 2.564102564102564\n",
      "% for 42 partners is 2.380952380952381\n",
      "% for 11 partners is 9.090909090909092\n",
      "% for 90 partners is 1.1111111111111112\n",
      "% for 82 partners is 1.2195121951219512\n",
      "% for 37 partners is 2.7027027027027026\n",
      "% for 61 partners is 1.639344262295082\n"
     ]
    },
    {
     "ename": "ZeroDivisionError",
     "evalue": "division by zero",
     "output_type": "error",
     "traceback": [
      "\u001b[0;31m---------------------------------------------------------------------------\u001b[0m",
      "\u001b[0;31mZeroDivisionError\u001b[0m                         Traceback (most recent call last)",
      "Cell \u001b[0;32mIn[12], line 11\u001b[0m\n\u001b[1;32m      9\u001b[0m \u001b[38;5;28mprint\u001b[39m(lv_list)\n\u001b[1;32m     10\u001b[0m \u001b[38;5;28;01mfor\u001b[39;00m i \u001b[38;5;129;01min\u001b[39;00m lv_list:\n\u001b[0;32m---> 11\u001b[0m     \u001b[38;5;28mprint\u001b[39m(\u001b[38;5;124mf\u001b[39m\u001b[38;5;124m\"\u001b[39m\u001b[38;5;124m% for \u001b[39m\u001b[38;5;132;01m{\u001b[39;00mi\u001b[38;5;132;01m}\u001b[39;00m\u001b[38;5;124m partners is \u001b[39m\u001b[38;5;132;01m{\u001b[39;00m(\u001b[38;5;241;43m1\u001b[39;49m\u001b[38;5;241;43m/\u001b[39;49m\u001b[43mi\u001b[49m)\u001b[38;5;241m*\u001b[39m\u001b[38;5;241m100\u001b[39m\u001b[38;5;132;01m}\u001b[39;00m\u001b[38;5;124m\"\u001b[39m)\n",
      "\u001b[0;31mZeroDivisionError\u001b[0m: division by zero"
     ]
    }
   ],
   "source": [
    "# If exception is not handled it will abnormally terminate program without giving appropriate displaying/logging of failure and exact \n",
    "# location of termination\n",
    "#try: \n",
    "import random\n",
    "print(\"gettings share for number of partners in a list\")\n",
    "lv_list=[x for x in range(100)]\n",
    "print(lv_list)\n",
    "random.shuffle(lv_list)\n",
    "print(lv_list)\n",
    "for i in lv_list:\n",
    "    print(f\"% for {i} partners is {(1/i)*100}\")\n",
    "\n"
   ]
  },
  {
   "cell_type": "markdown",
   "id": "123ab765-bdc8-4bd1-8585-21f06824235c",
   "metadata": {},
   "source": [
    "Q3-Which python statements are used to catch and handle exceptions."
   ]
  },
  {
   "cell_type": "code",
   "execution_count": 4,
   "id": "b526c720-6d66-492a-8708-934c203cc2d3",
   "metadata": {},
   "outputs": [
    {
     "name": "stdout",
     "output_type": "stream",
     "text": [
      "[0, 1, 2, 3, 4, 5, 6, 7, 8, 9]\n",
      "error is  list index out of range\n"
     ]
    }
   ],
   "source": [
    "## try & except statements are used to catch and handle exception.\n",
    "# try catches error & except handles it.\n",
    "# in case of error in try block all statemets inside except will execute.\n",
    "# print statements are used within except it often to display errors.\n",
    "try:\n",
    "    lv_list=[x for x in range(10)]\n",
    "    print(lv_list)\n",
    "    print(lv_list[11])\n",
    "except IndexError as e:\n",
    "    print(\"error is \",e)"
   ]
  },
  {
   "cell_type": "markdown",
   "id": "691d0e37-3ac6-481c-a779-9d6a4f192262",
   "metadata": {},
   "source": [
    "Q4-Explain with example - \n",
    "a)try and else\n",
    "b)finally\n",
    "c)raise"
   ]
  },
  {
   "cell_type": "code",
   "execution_count": 5,
   "id": "504077c4-3e7b-4c69-a48e-ea5673796747",
   "metadata": {},
   "outputs": [
    {
     "name": "stdout",
     "output_type": "stream",
     "text": [
      "program starts\n",
      "file object created\n",
      "file written\n",
      "file closed, now read it\n",
      "Program ends\n"
     ]
    }
   ],
   "source": [
    "#try block - This is the block where main source code needs to be writte in which exception is anticipated.\n",
    "#except block - in case of error in try block this block will execute.\n",
    "#else block - this executes when try block executes without any error & thus no exception.\n",
    "#finally block - this will always execute, even when we dont handle an error, \n",
    "#               finally can exist together with try,except,else\n",
    "try:\n",
    "    print(\"program starts\")\n",
    "    fo=open(\"test_file1.txt\",'w') ## if we dont give escape characters we get unicode errors\n",
    "    print(\"file object created\")\n",
    "    fo.write(\"This is my first IO writing in python\")\n",
    "    print(\"file written\")   ## till we close file object message wont be written as file is holded by program\n",
    "except Exception as e:\n",
    "    print(\"Error encountered is \",e)\n",
    "else: \n",
    "    fo.close()\n",
    "    print(\"file closed, now read it\")\n",
    "finally:\n",
    "    print(\"Program ends\")"
   ]
  },
  {
   "cell_type": "markdown",
   "id": "46eede53-d5c9-4312-acb4-db7bf5426005",
   "metadata": {},
   "source": [
    "Q5-What are custom exceptions? Why do we need them?"
   ]
  },
  {
   "cell_type": "code",
   "execution_count": 10,
   "id": "ef21efd6-c8f2-46a9-be89-1386a939d1cb",
   "metadata": {},
   "outputs": [
    {
     "name": "stdout",
     "output_type": "stream",
     "text": [
      "program start\n"
     ]
    },
    {
     "name": "stdin",
     "output_type": "stream",
     "text": [
      "Enter age  -2\n"
     ]
    },
    {
     "name": "stdout",
     "output_type": "stream",
     "text": [
      "error is  Age input is invalid\n",
      "program completed\n"
     ]
    }
   ],
   "source": [
    "#Custom exceptions are needed to use raise custom/desired exceptions as per our requirement.\n",
    "# Custom Exceptions include a custom class for our error & raise keyword with that custom class.\n",
    "# Below is creating a custom class InputException \n",
    "# raise is used in try block itself\n",
    "try:\n",
    "    print(\"program start\")\n",
    "    class InputException(Exception):    ## Here Exception is super class which has been inherited here\n",
    "           def __init__(self,msg):\n",
    "                self.msg=msg\n",
    "    age=int(input(\"Enter age \"))\n",
    "    if (age < 0 or age >200):\n",
    "        raise InputException(\"Age input is invalid\")   ## raise is used in try block itself just with inherited class\n",
    "except InputException as err:\n",
    "        print(\"error is \",err)  \n",
    "else:\n",
    "    print(\"Enjoy your voting\")\n",
    "finally:\n",
    "    print(\"program completed\")\n"
   ]
  },
  {
   "cell_type": "markdown",
   "id": "5d50e3fa-f6e9-45c3-badf-8aa6436f24e6",
   "metadata": {},
   "source": [
    "Q6-Create a custom exception class. Use this to handle an exception."
   ]
  },
  {
   "cell_type": "code",
   "execution_count": 34,
   "id": "48e4f447-e56e-45d3-a5e2-f18302659f93",
   "metadata": {},
   "outputs": [
    {
     "name": "stdout",
     "output_type": "stream",
     "text": [
      "program start\n"
     ]
    },
    {
     "name": "stdin",
     "output_type": "stream",
     "text": [
      "Enter a natural number for a lucky draw b/w 1-500:  1200\n"
     ]
    },
    {
     "name": "stdout",
     "output_type": "stream",
     "text": [
      "number entered is 1200\n",
      "data type of entered no is  <class 'int'>\n",
      "Try again - invalid number\n",
      "program completed\n"
     ]
    }
   ],
   "source": [
    "try:\n",
    "    import random\n",
    "    print(\"program start\")\n",
    "    class InputErr(Exception):    ## Here Exception is super class which has been inherited here\n",
    "           def __init__(self,msg):\n",
    "                self.msg=msg\n",
    "    lucky_num=int(input(\"Enter a natural number for a lucky draw b/w 1-500: \"))\n",
    "    print(f\"number entered is {lucky_num}\")\n",
    "    print(\"data type of entered no is \",type(lucky_num))\n",
    "    if lucky_num>500:\n",
    "        raise InputErr(\"Try again - invalid number\")   ## raise is used in try block itself just with inherited class\n",
    "except InputErr as e:\n",
    "        print(e)  \n",
    "else:\n",
    "    print(\"Valid input\")\n",
    "    winner=random.randint(1,500)\n",
    "    print(\"Winning number is\",winner)\n",
    "    if lucky_num==winner:  print(\"You won\")\n",
    "    else:  print(\"Try again, Good luck next time\")\n",
    "finally:\n",
    "    print(\"program completed\")"
   ]
  },
  {
   "cell_type": "code",
   "execution_count": null,
   "id": "b75abcaf-9f46-44ff-bcc7-f978589c42e8",
   "metadata": {},
   "outputs": [],
   "source": []
  }
 ],
 "metadata": {
  "kernelspec": {
   "display_name": "Python 3 (ipykernel)",
   "language": "python",
   "name": "python3"
  },
  "language_info": {
   "codemirror_mode": {
    "name": "ipython",
    "version": 3
   },
   "file_extension": ".py",
   "mimetype": "text/x-python",
   "name": "python",
   "nbconvert_exporter": "python",
   "pygments_lexer": "ipython3",
   "version": "3.10.8"
  }
 },
 "nbformat": 4,
 "nbformat_minor": 5
}
