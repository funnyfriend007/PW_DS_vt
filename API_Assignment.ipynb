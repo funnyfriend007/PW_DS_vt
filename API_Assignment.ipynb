{
 "cells": [
  {
   "cell_type": "markdown",
   "id": "313be108-3dca-4f1c-9f6a-4be6313eb171",
   "metadata": {},
   "source": [
    "### Q1. What is an API? Give an example, where an API is used in real life"
   ]
  },
  {
   "cell_type": "code",
   "execution_count": null,
   "id": "87b41abd-149e-4791-8096-b08bd7fc1042",
   "metadata": {},
   "outputs": [],
   "source": [
    "## following is operating system \n",
    "'''\n",
    "API - most common example is our google search.\n",
    "USAGE - Which we can do using mobile/laptop/desktop/tablet having different framework/operating system connecting to google.com\n",
    "which might be running different framework/different operating system.\n",
    "\n",
    "Application Programming Interface\n",
    "API stands for Application Programming Interface. In the context of APIs, the word Application refers to any software\n",
    "with a distinct function. Interface can be thought of as a contract of service between two applications. \n",
    "This contract defines how the two communicate with each other using requests and responses.\n",
    "\n",
    "API architecture is usually explained in terms of client and server. The application sending the request is \n",
    "called the client, and the application sending the response is called the server. So in the weather example, \n",
    "the bureau’s weather database is the server, and the mobile app is the client. \n",
    "\n",
    "There are four different ways that APIs can work depending on when and why they were created.\n",
    "\n",
    "SOAP APIs \n",
    "These APIs use Simple Object Access Protocol. Client and server exchange messages using XML. \n",
    "This is a less flexible API that was more popular in the past.\n",
    "\n",
    "RPC APIs\n",
    "These APIs are called Remote Procedure Calls. The client completes a function (or procedure) on the server, \n",
    "and the server sends the output back to the client.\n",
    "\n",
    "Websocket APIs\n",
    "Websocket API is another modern web API development that uses JSON objects to pass data. A WebSocket API \n",
    "supports two-way communication between client apps and the server. The server can send callback messages to connected clients, making it more efficient than REST API.\n",
    "\n",
    "REST APIs - REST - representational state transfer. Protocol\n",
    "These are the most popular and flexible APIs found on the web today. The client sends requests to the server as data. \n",
    "The server uses this client input to start internal functions and returns output data back to the client. \n",
    "'''"
   ]
  },
  {
   "cell_type": "markdown",
   "id": "59d69567-7e2e-4828-8903-56d05af98775",
   "metadata": {},
   "source": [
    "### Q2. Give advantages and disadvantages of using API"
   ]
  },
  {
   "cell_type": "code",
   "execution_count": null,
   "id": "d1a55217-4271-4f27-8c01-07182bc2e354",
   "metadata": {},
   "outputs": [],
   "source": [
    "### Advantages \n",
    "'''\n",
    "The major benefit of using an API is accessing and consuming data and services from thousands of independent sources. \n",
    "This means organizations of all sizes can access these functionalities without developing their own specialized applications. \n",
    "Other major benefits to using APIs include: APIs increase business agility.\n",
    "'''\n",
    "\n",
    "### Disadvantages\n",
    "'''\n",
    "These include the potential for security risks, \n",
    "the need for specialized knowledge, \n",
    "the potential for compatibility issues,\n",
    "the costs associated with using an API,\n",
    "the need for ongoing maintenance, \n",
    "the time investment required, \n",
    "and the potential for limitations.\n",
    "'''"
   ]
  },
  {
   "cell_type": "markdown",
   "id": "61013d12-3017-4798-adba-fd68ac732285",
   "metadata": {},
   "source": [
    "### Q3. What is a Web API? Differentiate between API and Web API."
   ]
  },
  {
   "cell_type": "code",
   "execution_count": null,
   "id": "e6a3625d-4861-4698-9264-338531a81cff",
   "metadata": {},
   "outputs": [],
   "source": [
    "### Web API\n",
    "'''\n",
    "Web API as the name suggests, is an API over the web which can be accessed using HTTP protocol.\n",
    "It is a concept and not a technology. We can build Web API using different technologies such as Java, .NET etc. \n",
    "For example, Twitter's REST APIs provide programmatic access to read and write data using which we can \n",
    "integrate twitter's capabilities into our own application.\n",
    "'''\n",
    "\n",
    "### Difference between API and Web API\n",
    "API may use any of protocols viz. HTTPS, TCP, SMTP whereas Web API uses only HTTPS protocol.\n"
   ]
  },
  {
   "cell_type": "markdown",
   "id": "bfae7629-505b-4423-b0cc-c7f11291b3bf",
   "metadata": {},
   "source": [
    "### Q4. Explain REST and SOAP Architecture. Mention shortcomings of SOAP."
   ]
  },
  {
   "cell_type": "code",
   "execution_count": null,
   "id": "e20f66b9-1f7b-42ee-af68-a23838c1688a",
   "metadata": {},
   "outputs": [],
   "source": [
    "#########################################################\n",
    "## REST API  ############################################\n",
    "'''REST stands for REpresentational State Transfer and API stands for Application Program Interface.\n",
    "REST is a software architectural style that defines the set of rules to be used for creating web services.\n",
    "Web services which follow the REST architectural style are known as RESTful web services. \n",
    "It allows requesting systems to access and manipulate web resources by using a uniform and predefined set of rules. \n",
    "Interaction in REST based systems happen through Internet’s Hypertext Transfer Protocol (HTTP). \n",
    "\n",
    "A Restful system consists of a:\n",
    "\n",
    "a)client who requests for the resources.\n",
    "b)server who has the resources.\n",
    "It is important to create REST API according to industry standards which results in ease of development and increase client adoption. \n",
    "\n",
    "Rules of REST API: There are certain rules which should be kept in mind while creating REST API endpoints.\n",
    "\n",
    "1)REST is based on the resource or noun instead of action or verb based. It means that a URI of a REST API should always end with a noun. \n",
    "Example: /api/users is a good example, but /api?type=users is a bad example of creating a REST API.\n",
    "\n",
    "2)HTTP verbs are used to identify the action. Some of the HTTP verbs are – GET, PUT, POST, DELETE, GET, PATCH.\n",
    "\n",
    "3)A web application should be organized into resources like users and then uses \n",
    "HTTP verbs like – GET, PUT, POST, DELETE to modify those resources. \n",
    "And as a developer it should be clear that what needs to be done just by looking at the endpoint and HTTP method used.\n",
    "'''\n",
    "\n",
    "#########################################################\n",
    "## SOAP API  ############################################\n",
    "'''\n",
    "SOAP or Simple Objects Access Protocol is a web communication protocol designed for Microsoft back in 1998.\n",
    "Today, it’s mostly used to expose web services and transmit data over HTTP/HTTPS. \n",
    "But it’s not limited to them. SOAP, unlike the REST pattern, supports the XML data format only and \n",
    "strongly follows preset standards such as messaging structure, a set of encoding rules, \n",
    "and a convention for providing procedure requests and responses.\n",
    "\n",
    "The built-in functionality to create web-based services allows SOAP to handle communications and \n",
    "make responses language- and platform-independent.\n",
    "\n",
    "While most web data exchange happens over REST exchange, SOAP isn’t disappearing anytime soon,\n",
    "because it’s highly standardized, allows for automation in certain cases, and it’s more secure. \n",
    "Let’s have a look at the main SOAP features.\n",
    "\n",
    "\n",
    "### shortcomings \n",
    "SOAP works with XML only\n",
    "Web-transmitted data is usually structured in some way. The two most popular data formats are XML and JSON.\n",
    "'''"
   ]
  },
  {
   "cell_type": "markdown",
   "id": "da24e46c-5fe2-4023-ba23-bf8d1db6762c",
   "metadata": {},
   "source": [
    "### Q5. Differentiate between REST and SOAP."
   ]
  },
  {
   "cell_type": "code",
   "execution_count": null,
   "id": "89f84837-c3f9-4dc1-afca-855688f3d6e8",
   "metadata": {},
   "outputs": [],
   "source": [
    "######### SOAP ############################### vs ########### REST ################################\n",
    "a)Relies on SOAP (Simple Object Access Protocol) VS Relies on REST (Representational State Transfer) architecture using HTTP.\n",
    "\n",
    "b)Transports data in standard XML format.        VS      Generally transports data in JSON. It is based on URI. Because REST follows stateless model, REST does not enforces message format as XML or JSON etc.\n",
    "\n",
    "c)Because it is XML based and relies on SOAP, it works with WSDL  VS    It works with GET, POST, PUT, DELETE\n",
    "\n",
    "d)Works over HTTP, HTTPS, SMTP, XMPP    VS     Works over HTTP and HTTPS\n",
    "\n",
    "e)Highly structured/typed    VS       Less structured -> less bulky data\n",
    "\n",
    "f)Designed with large enterprise applications in mind    VS Designed with mobile devices in mind"
   ]
  }
 ],
 "metadata": {
  "kernelspec": {
   "display_name": "Python 3 (ipykernel)",
   "language": "python",
   "name": "python3"
  },
  "language_info": {
   "codemirror_mode": {
    "name": "ipython",
    "version": 3
   },
   "file_extension": ".py",
   "mimetype": "text/x-python",
   "name": "python",
   "nbconvert_exporter": "python",
   "pygments_lexer": "ipython3",
   "version": "3.10.8"
  }
 },
 "nbformat": 4,
 "nbformat_minor": 5
}
